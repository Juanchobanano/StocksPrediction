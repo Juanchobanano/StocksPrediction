{
 "cells": [
  {
   "cell_type": "markdown",
   "metadata": {},
   "source": [
    "# MonteCarlo Learning Introduction.\n",
    "\n",
    "---\n",
    "\n",
    "I highly recommend to visit the David Silver Lectures on Monte-Carlo Reinforcement Learning: https://www.youtube.com/watch?v=PnHCvfgC_ZA&t\n",
    "\n",
    "In contrast of **Dynamic Programming**, **MonteCarlo Learning** methods learn directly from episodes of experience. These methods are model-free, which means they don't need knowledge about the MDP probability transitions / reward functions. MC learns from complete episodes (no bootstrapping). It uses the simplest possible idea: the value of a state is equal to its mean return. \n",
    "\n",
    "In this notebook, we first consider the problem of the policy evaluation using montecarlo learning, then, we continue with policy control. To present both algorithms, we solve again the GridWorld problem using a **policy and environment deterministic approach**, as explained in the Dynamic Programming Introduction section.\n",
    "\n",
    "<img src = \"./imagenes/montecarlo_backup.png\" width = \"500\" height = \"200\" >"
   ]
  },
  {
   "cell_type": "markdown",
   "metadata": {},
   "source": [
    "### 1. Policy Evaluation (Prediction) for Montecarlo Learning.\n",
    "\n",
    "---\n",
    "1. Goal: Learn $V_{\\pi}$ from episodes of experience under the policy $\\pi$, i.e, $S_{1}, A_{1}, R_{2}, ..., S_{k}$ following policy $\\pi$.\n",
    "\n",
    "2. Recall that the return is the total discounted reward:\n",
    "$Gt = R_{t+1} + \\gamma R_{t+2} + ... + \\gamma^{T-1} R_{T}$\n",
    "\n",
    "3. Recall that the value function is the expected return: \n",
    "$V_{\\pi}(s) = E_{\\pi}[G_{t} | S_{t} = s]$\n",
    "\n",
    "4. Monte-Carlo policy evalation uses empirical mean return instead of expected return.\n",
    "\n",
    "In this sub-section, we will use the same example used in Dynamic Programming Lecture to introduce the policy evaluation algorithm.\n",
    "\n",
    "<img src = \"./imagenes/monte_carlo_policy_evaluation_algorithm.png\" width = \"600px\" height=\"400px\">"
   ]
  },
  {
   "cell_type": "code",
   "execution_count": 1,
   "metadata": {},
   "outputs": [],
   "source": [
    "# Import libraries.\n",
    "import matplotlib.pyplot as plt\n",
    "import matplotlib.patches as patches\n",
    "import numpy as np\n",
    "import pandas as pd\n",
    "import time\n",
    "import random\n",
    "from IPython.display import clear_output\n",
    "\n",
    "%matplotlib inline"
   ]
  },
  {
   "cell_type": "code",
   "execution_count": 2,
   "metadata": {},
   "outputs": [],
   "source": [
    "class Graphics():\n",
    "    \n",
    "    def __init__(self):\n",
    "        print(\"Graphics module ready!\")\n",
    "        \n",
    "    def render(self, x, y, policy_evaluator, plot_values = True):\n",
    "            \n",
    "        fig1 = plt.figure(figsize=(4, 4))\n",
    "        ax1 = fig1.add_subplot(111, aspect='equal')\n",
    "\n",
    "        # Horizontal lines.\n",
    "        for i in range(0, 6):\n",
    "            ax1.axhline(i * 0.2, linewidth=2, color=\"#2D2D33\")\n",
    "            ax1.axvline(i * 0.2, linewidth=2, color=\"#2D2D33\")\n",
    "\n",
    "         # Salida, Meta & GameOver.\n",
    "        ax1.add_patch(patches.Rectangle((0.0, 0.0), 0.2, 0.2, facecolor = \"#F6D924\"))\n",
    "        \n",
    "        ax1.add_patch(patches.Rectangle((0.2, 0.8), 0.2, 0.2, facecolor = \"#F6D924\"))\n",
    "        ax1.add_patch(patches.Rectangle((0.8, 0.2), 0.2, 0.2, facecolor = \"#F6D924\"))\n",
    "        \n",
    "        ax1.add_patch(patches.Rectangle((0.8, 0.6), 0.2, 0.2, facecolor = \"#68FF33\"))\n",
    "        #ax1.add_patch(patches.Rectangle((0.8, 0.8), 0.2, 0.2, facecolor = \"#FF5533\"))\n",
    "        \n",
    "        # Muros del juego.\n",
    "        ax1.add_patch(patches.Rectangle((0.2, 0.4), 0.2, 0.4, facecolor = \"#33A4FF\"))\n",
    "        ax1.add_patch(patches.Rectangle((0.6, 0.2), 0.2, 0.2, facecolor = \"#33A4FF\"))\n",
    "        ax1.add_patch(patches.Rectangle((0.2, 0.0), 0.2, 0.2, facecolor = \"#33A4FF\"))\n",
    "        \n",
    "        ax1.add_patch(patches.Rectangle((0.4, 0.8), 0.2, 0.2, facecolor = \"#33A4FF\"))\n",
    "        ax1.add_patch(patches.Rectangle((0.4, 0.8), 0.2, 0.2, facecolor = \"#33A4FF\"))\n",
    "        ax1.add_patch(patches.Rectangle((0.8, 0.4), 0.2, 0.2, facecolor = \"#33A4FF\"))\n",
    "        \n",
    "        # Limit grid view.\n",
    "        plt.ylim((0, 1))\n",
    "        plt.xlim((0, 1))\n",
    "\n",
    "        # Plot player.\n",
    "        plt.scatter(x, y, s = 100, color = \"black\", marker = \"o\", facecolor = \"blue\", edgecolors = \"blue\", zorder = 10)\n",
    "\n",
    "        # Plot state values.\n",
    "        if plot_values:\n",
    "            for i in range(0, len(policy_evaluator.value_state_table)):\n",
    "                for j in range(0, len(policy_evaluator.value_state_table[0])):\n",
    "                    plt.text(self.environment.grid_pos[i] - 0.08, self.environment.grid_pos[j] - 0.03, \n",
    "                             round(policy_evaluator.value_state_table[i][j], 1), fontsize=10)\n",
    "                \n",
    "        # Plot grid.\n",
    "        plt.axis(\"off\")\n",
    "        plt.show()  "
   ]
  },
  {
   "cell_type": "code",
   "execution_count": 3,
   "metadata": {},
   "outputs": [],
   "source": [
    "class GridEnvironment():\n",
    "    \n",
    "    def __init__(self):\n",
    "        \n",
    "        self.rw = -1 # Living (Movement) Penalty\n",
    "        self.walls_and_paths = [[1, 1, 1, 1, 1], [0, 1, 0, 0, 1], [1, 1, 1, 1, 0], [1, 0, 1, 1, 1], [1, 1, 0, 1, 1]]\n",
    "        self.rewards = [[self.rw, self.rw, self.rw, self.rw, self.rw], \n",
    "                        [self.rw, self.rw, self.rw, self.rw, self.rw], \n",
    "                        [self.rw, self.rw, self.rw, self.rw, self.rw], \n",
    "                        [self.rw, self.rw, self.rw, self.rw, self.rw], \n",
    "                        [self.rw, self.rw, self.rw, self.rw, self.rw]]\n",
    "        self.grid_pos = [0.1, 0.3, 0.5, 0.7, 0.9]"
   ]
  },
  {
   "cell_type": "code",
   "execution_count": 4,
   "metadata": {},
   "outputs": [],
   "source": [
    "class modelFreeAgent():\n",
    "    \n",
    "    def __init__(self, policy, discount_factor):\n",
    "        self.pos = [0,0]\n",
    "        self.total_reward = 0\n",
    "        self.discount_factor = discount_factor\n",
    "        self.actions = [\"up\", \"down\", \"left\", \"right\"]\n",
    "        \n",
    "        # Start with a random policy. 0.25 chance of moving to any direction.\n",
    "        self.policy = policy   \n",
    "        \n",
    "    # Move!\n",
    "    def move(self, environment):\n",
    "    \n",
    "        # Select action according to policy.\n",
    "        action = self.policy[self.pos[0]][self.pos[1]]\n",
    "        if action == \"r\":\n",
    "            action = self.actions[random.randint(0, 3)]\n",
    "\n",
    "        # Move to new position according to action taken.\n",
    "        self.pos = self.forwardState(self.pos, action, environment)\n",
    "        \n",
    "    # Select action according to policy.\n",
    "    def selectAction(self, state):\n",
    "        \n",
    "        if(self.policy[state[0]][state[1]] == \"r\"):\n",
    "            action = self.actions[random.randint(0, len(self.available_actions) - 1)] # Agent initial policy.\n",
    "        else: \n",
    "            action = self.policy[state[0]][state[1]]\n",
    "        return action\n",
    "            \n",
    "    def forwardState(self, pos, action, environment):\n",
    "        \n",
    "        # New position array.\n",
    "        new_position = pos\n",
    "        \n",
    "        # Compute new position based on action taken.\n",
    "        if(action == \"up\" and pos[1] < 4):\n",
    "            if(environment.walls_and_paths[pos[0]][pos[1] + 1]) == 1:\n",
    "                new_position = [pos[0], pos[1] + 1]\n",
    "        elif(action == \"down\" and pos[1] > 0):\n",
    "            if(environment.walls_and_paths[pos[0]][pos[1] - 1]) == 1:\n",
    "                new_position = [pos[0], pos[1] - 1]\n",
    "        elif(action == \"left\" and pos[0] > 0):\n",
    "            if(environment.walls_and_paths[pos[0] - 1][pos[1]]) == 1:\n",
    "                new_position = [pos[0] - 1, pos[1]]\n",
    "        elif(action == \"right\" and pos[0] < 4):\n",
    "            if(environment.walls_and_paths[pos[0] + 1][pos[1]]) == 1:\n",
    "                new_position = [pos[0] + 1, pos[1]]\n",
    "        return new_position\n",
    "\n",
    "    def getPosition(self):\n",
    "        return self.pos\n",
    "    \n",
    "    def getReward(self):\n",
    "        return self.total_reward\n",
    "    \n",
    "    def setPosition(self, x, y):\n",
    "        self.pos = [x, y]\n",
    "        \n",
    "    def selectBestAction(self, value_state_table, environment):\n",
    "        \n",
    "        go_up = self.forwardState(self.pos, \"up\", environment)\n",
    "        go_down = self.forwardState(self.pos, \"down\", environment)\n",
    "        go_left = self.forwardState(self.pos, \"left\", environment)\n",
    "        go_right = self.forwardState(self.pos, \"right\", environment)\n",
    "        \n",
    "        up_value = value_state_table[go_up[0]][go_up[1]]\n",
    "        down_value = value_state_table[go_down[0]][go_down[1]]\n",
    "        left_value = value_state_table[go_left[0]][go_left[1]]\n",
    "        right_value = value_state_table[go_right[0]][go_right[1]]\n",
    "        values = [up_value, down_value, left_value, right_value]\n",
    "        \n",
    "        best_action = self.actions[values.index(max(values))] \n",
    "        return best_action       "
   ]
  },
  {
   "cell_type": "code",
   "execution_count": 5,
   "metadata": {},
   "outputs": [],
   "source": [
    "class PolicyEvaluation(Graphics):\n",
    "    \n",
    "    def __init__(self, environment, agent, ephocs = 10, visit = \"first\"):\n",
    "        \n",
    "        self.environment = environment       \n",
    "        self.agent = agent                     \n",
    "        self.ephocs = ephocs\n",
    "        self.value_state_table = [[0, 0, 0, 0, 0], \n",
    "                                  [0, 0, 0, 0, 0], \n",
    "                                  [0, 0, 0, 0, 0], \n",
    "                                  [0, 0, 0, 0, 0], \n",
    "                                  [0, 0, 0, 100, 0]]\n",
    "        self.visit = visit\n",
    "        \n",
    "        # Generate a list for each state.\n",
    "        self.states_list = list()\n",
    "        for i in range(0, 5):\n",
    "            column = list()\n",
    "            for j in range(0, 5):\n",
    "                column.append(list())\n",
    "            self.states_list.append(column)\n",
    "    \n",
    "    def evaluate(self, plot_grid = True):\n",
    "        self.montecarlo_policy_evaluation(self.ephocs, plot_grid)\n",
    "        \n",
    "    def montecarlo_policy_evaluation(self, ephocs, plot_grid):\n",
    "        \n",
    "        # Set agent position.\n",
    "        self.agent.setPosition(0, 0)\n",
    "        \n",
    "        # Initialize list of states & rewards.\n",
    "        list_of_states = list()\n",
    "        list_of_rewards = list()\n",
    "        \n",
    "        # Append current position.\n",
    "        list_of_states.append([0, 0])\n",
    "        \n",
    "        for k in range(0, ephocs):\n",
    "            while not (self.agent.pos[0] == 4 and self.agent.pos[1] == 3):\n",
    "                \n",
    "                # Move the player.\n",
    "                self.agent.move(self.environment)\n",
    "                \n",
    "                # Append new position\n",
    "                list_of_states.append(self.agent.pos)\n",
    "                list_of_rewards.append(self.environment.rewards[self.agent.pos[0]][self.agent.pos[1]])\n",
    "\n",
    "                # Method of the super class.\n",
    "                if(plot_grid):\n",
    "\n",
    "                    # Render game.\n",
    "                    pos = self.agent.getPosition()\n",
    "                    grid_coords = self.environment.grid_pos\n",
    "\n",
    "                    self.render(self.environment.grid_pos[pos[0]], self.environment.grid_pos[pos[1]], self, True)\n",
    "                    time.sleep(0.1)\n",
    "                    clear_output(wait = True)\n",
    "                    \n",
    "            # Update Value State Table with MonteCarlo algorithm.\n",
    "            if self.visit == \"first\":\n",
    "                self.updateValueStateTable_MC_FirstVisit(list_of_states, list_of_rewards)\n",
    "            elif self.visit == \"multiple\":\n",
    "                self.updateValueStateTable_MC_MultipleVisits(list_of_states, list_of_rewards)\n",
    "            \n",
    "            # Set players position at the beginning.\n",
    "            self.agent.setPosition(0, 0)\n",
    "            \n",
    "            # Reset lists.\n",
    "            list_of_states = list()\n",
    "            list_of_rewards = list()\n",
    "            list_of_states.append([0, 0])\n",
    "                    \n",
    "    def updateValueStateTable_MC_FirstVisit(self, list_of_states, list_of_rewards):\n",
    "            \n",
    "        # Initialize discount reward factor. \n",
    "        G = 0\n",
    "        \n",
    "        # Execute montecarlo learning algorithm.\n",
    "        for s in range(0, len(list_of_states) - 1):\n",
    "\n",
    "            # Update cumulative discount return.\n",
    "            G += self.agent.discount_factor * list_of_rewards[len(list_of_states) - 2 - s]\n",
    "\n",
    "            # Check if current state is not in the list.\n",
    "            not_in_list = True\n",
    "            current_state = list_of_states[len(list_of_states) - 2 - s]\n",
    "            states_copy = list_of_states[0: len(list_of_states) - 3 - s].copy()\n",
    "\n",
    "            #print(states_copy)\n",
    "            \n",
    "            for st in states_copy:\n",
    "                if current_state == st:\n",
    "                    not_in_list = False\n",
    "                \n",
    "            # Update state value table.\n",
    "            if (not_in_list) and current_state != [4, 3]:\n",
    "                \n",
    "                # Compute new state value.\n",
    "                array = self.states_list[current_state[0]][current_state[1]]\n",
    "                array.append(G)\n",
    "                average = self.getAverage(array)\n",
    "                self.value_state_table[current_state[0]][current_state[1]] = average\n",
    "                \n",
    "                # Render value state update.\n",
    "                if False:\n",
    "                    self.agent.setPosition(current_state[0], current_state[1])\n",
    "                    pos = self.agent.getPosition()\n",
    "                    self.render(self.environment.grid_pos[pos[0]], self.environment.grid_pos[pos[1]], self, True)\n",
    "                    time.sleep(0.1)\n",
    "                    clear_output(wait = True)\n",
    "\n",
    "    def updateValueStateTable_MC_MultipleVisits(self, list_of_states, list_of_rewards):\n",
    "            \n",
    "        # Initialize discount reward factor. \n",
    "        G = 0\n",
    "        \n",
    "        # Execute montecarlo learning algorithm.\n",
    "        for s in range(0, len(list_of_states) - 1):\n",
    "\n",
    "            # Update cumulative discount return.\n",
    "            G += self.agent.discount_factor * list_of_rewards[len(list_of_states) - 2 - s]\n",
    "            current_state = list_of_states[len(list_of_states) - 2 - s]\n",
    "\n",
    "            # Update state value table.\n",
    "            if current_state != [4, 3]:\n",
    "                \n",
    "                # Compute new state value.\n",
    "                array = self.states_list[current_state[0]][current_state[1]]\n",
    "                array.append(G)\n",
    "                average = self.getAverage(array)\n",
    "                self.value_state_table[current_state[0]][current_state[1]] = average\n",
    "                \n",
    "                # Render value state update.\n",
    "                if False: \n",
    "                    self.agent.setPosition(current_state[0], current_state[1])\n",
    "                    pos = self.agent.getPosition()\n",
    "                    self.render(self.environment.grid_pos[pos[0]], self.environment.grid_pos[pos[1]], self, True)\n",
    "                    time.sleep(0.05)\n",
    "                    clear_output(wait = True)\n",
    "                \n",
    "                \n",
    "    def getAverage(self, array):\n",
    "        average = 0\n",
    "        for num in array: \n",
    "            average += num\n",
    "        return average / len(array)\n",
    "    \n",
    "    def updatePolicy(self):\n",
    "         for i in range(0, len(self.value_state_table)):\n",
    "                for j in range(0, len(self.value_state_table[0])):\n",
    "                    if self.environment.walls_and_paths[i][j] == 1:\n",
    "                        # Set agent position.\n",
    "                        self.agent.setPosition(i, j)\n",
    "                        best_action = self.agent.selectBestAction(self.value_state_table, self.environment)\n",
    "                        self.agent.policy[i][j] = best_action"
   ]
  },
  {
   "cell_type": "code",
   "execution_count": 6,
   "metadata": {},
   "outputs": [],
   "source": [
    "class Game(Graphics):\n",
    "    \n",
    "    def __init__(self, environment, agent):\n",
    "        \n",
    "        self.environment = environment       \n",
    "        self.agent = agent             \n",
    "        \n",
    "    def update(self, secs):\n",
    "        \n",
    "        pos = self.agent.getPosition()\n",
    "        grid_coords = self.environment.grid_pos\n",
    "        self.render(grid_coords[pos[0]], grid_coords[pos[1]], self.environment, False)\n",
    "        time.sleep(1)\n",
    "        clear_output(wait = True)\n",
    "        \n",
    "        while not (self.agent.pos[0] == 4 and self.agent.pos[1] == 3):\n",
    "            \n",
    "            self.agent.move(self.environment)\n",
    "            pos = self.agent.getPosition()\n",
    "            self.render(grid_coords[pos[0]], grid_coords[pos[1]], self.environment, False)\n",
    "            \n",
    "            time.sleep(secs)\n",
    "            clear_output(wait = True)\n",
    "            \n",
    "        #self.render(grid_coords[pos[0]], grid_coords[pos[1]], self.environment, False)\n",
    "        #time.sleep(secs)\n",
    "        #print(\"Yuhuu, we won the game!\")\n",
    "        #clear_output(wait = True)"
   ]
  },
  {
   "cell_type": "markdown",
   "metadata": {},
   "source": [
    "#### 1.1 Policy Evaluation - Montecarlo Learning First Visit."
   ]
  },
  {
   "cell_type": "code",
   "execution_count": 7,
   "metadata": {},
   "outputs": [],
   "source": [
    "# Generate the random policy.\n",
    "policy = list()\n",
    "for i in range(0, 5):\n",
    "    column = list()\n",
    "    for j in range(0, 5):\n",
    "        column.append(\"r\")\n",
    "    policy.append(column)\n",
    "\n",
    "# Initialize environment and agent.\n",
    "discount_factor = 0.9\n",
    "environment = GridEnvironment()\n",
    "agent = modelFreeAgent(policy, discount_factor)\n",
    "\n",
    "# Initialize policy evaluation class.\n",
    "ephocs = 2000\n",
    "policy_evaluation = PolicyEvaluation(environment, agent, ephocs, visit = \"first\")\n",
    "policy_evaluation.evaluate(plot_grid = False)\n",
    "policy_evaluation.updatePolicy()"
   ]
  },
  {
   "cell_type": "markdown",
   "metadata": {},
   "source": [
    "#### Win the Game with the previous policy evaluation results."
   ]
  },
  {
   "cell_type": "code",
   "execution_count": 8,
   "metadata": {},
   "outputs": [
    {
     "data": {
      "text/plain": [
       "[['up', 'right', 'down', 'down', 'down'],\n",
       " ['r', 'right', 'r', 'r', 'left'],\n",
       " ['up', 'up', 'up', 'right', 'r'],\n",
       " ['left', 'r', 'up', 'right', 'right'],\n",
       " ['left', 'down', 'r', 'down', 'down']]"
      ]
     },
     "execution_count": 8,
     "metadata": {},
     "output_type": "execute_result"
    }
   ],
   "source": [
    "agent.policy"
   ]
  },
  {
   "cell_type": "code",
   "execution_count": 9,
   "metadata": {},
   "outputs": [
    {
     "data": {
      "image/png": "[encoded data removed]",
      "text/plain": [
       "<Figure size 288x288 with 1 Axes>"
      ]
     },
     "metadata": {
      "needs_background": "light"
     },
     "output_type": "display_data"
    }
   ],
   "source": [
    "agent.pos = [1,4]\n",
    "game = Game(environment, agent)\n",
    "game.update(secs = 0.5)"
   ]
  },
  {
   "cell_type": "code",
   "execution_count": 10,
   "metadata": {},
   "outputs": [
    {
     "data": {
      "image/png": "[encoded data removed]",
      "text/plain": [
       "<Figure size 288x288 with 1 Axes>"
      ]
     },
     "metadata": {
      "needs_background": "light"
     },
     "output_type": "display_data"
    }
   ],
   "source": [
    "agent.pos = [4, 1]\n",
    "game = Game(environment, agent)\n",
    "game.update(secs = 0.5)"
   ]
  },
  {
   "cell_type": "code",
   "execution_count": 12,
   "metadata": {},
   "outputs": [
    {
     "data": {
      "image/png": "[encoded data removed]",
      "text/plain": [
       "<Figure size 288x288 with 1 Axes>"
      ]
     },
     "metadata": {
      "needs_background": "light"
     },
     "output_type": "display_data"
    }
   ],
   "source": [
    "agent.pos = [0, 0]\n",
    "game = Game(environment, agent)\n",
    "game.update(secs = 0.5)"
   ]
  },
  {
   "cell_type": "markdown",
   "metadata": {},
   "source": [
    "#### 1.2  Policy Evaluation - Montecarlo Learning Multiple Visits."
   ]
  },
  {
   "cell_type": "code",
   "execution_count": 13,
   "metadata": {},
   "outputs": [],
   "source": [
    "# Generate the random policy.\n",
    "policy = list()\n",
    "for i in range(0, 5):\n",
    "    column = list()\n",
    "    for j in range(0, 5):\n",
    "        column.append(\"r\")\n",
    "    policy.append(column)\n",
    "\n",
    "# Initialize environment and agent.\n",
    "discount_factor = 0.9\n",
    "environment2 = GridEnvironment()\n",
    "agent2 = modelFreeAgent(policy, discount_factor)\n",
    "\n",
    "# Initialize policy evaluation class.\n",
    "ephocs = 1000\n",
    "policy_evaluation = PolicyEvaluation(environment2, agent2, ephocs, visit = \"multiple\")\n",
    "policy_evaluation.evaluate(plot_grid = False)\n",
    "policy_evaluation.updatePolicy()"
   ]
  },
  {
   "cell_type": "markdown",
   "metadata": {},
   "source": [
    "#### Win the Game with the previous policy evaluation results."
   ]
  },
  {
   "cell_type": "code",
   "execution_count": 14,
   "metadata": {},
   "outputs": [
    {
     "data": {
      "text/plain": [
       "[['up', 'right', 'down', 'down', 'down'],\n",
       " ['r', 'right', 'r', 'r', 'left'],\n",
       " ['up', 'up', 'up', 'right', 'r'],\n",
       " ['left', 'r', 'up', 'right', 'right'],\n",
       " ['left', 'down', 'r', 'down', 'down']]"
      ]
     },
     "execution_count": 14,
     "metadata": {},
     "output_type": "execute_result"
    }
   ],
   "source": [
    "agent.policy"
   ]
  },
  {
   "cell_type": "code",
   "execution_count": 18,
   "metadata": {},
   "outputs": [
    {
     "data": {
      "image/png": "[encoded data removed]",
      "text/plain": [
       "<Figure size 288x288 with 1 Axes>"
      ]
     },
     "metadata": {
      "needs_background": "light"
     },
     "output_type": "display_data"
    }
   ],
   "source": [
    "agent.pos = [4,1]\n",
    "game = Game(environment, agent)\n",
    "game.update(secs = 0.5)"
   ]
  },
  {
   "cell_type": "code",
   "execution_count": 16,
   "metadata": {},
   "outputs": [
    {
     "data": {
      "image/png": "[encoded data removed]",
      "text/plain": [
       "<Figure size 288x288 with 1 Axes>"
      ]
     },
     "metadata": {
      "needs_background": "light"
     },
     "output_type": "display_data"
    }
   ],
   "source": [
    "agent.pos = [1, 4]\n",
    "game = Game(environment, agent)\n",
    "game.update(secs = 0.5)"
   ]
  },
  {
   "cell_type": "code",
   "execution_count": 17,
   "metadata": {},
   "outputs": [
    {
     "data": {
      "image/png": "[encoded data removed]",
      "text/plain": [
       "<Figure size 288x288 with 1 Axes>"
      ]
     },
     "metadata": {
      "needs_background": "light"
     },
     "output_type": "display_data"
    }
   ],
   "source": [
    "agent.pos = [0, 0]\n",
    "game = Game(environment, agent)\n",
    "game.update(secs = 0.5)"
   ]
  },
  {
   "cell_type": "markdown",
   "metadata": {},
   "source": [
    "### 2. Policy Improvement (Control) for MonteCarlo Learning\n",
    "##### Also know as Greedy in the Limit with Infinite Exploration (GLIE).\n",
    "\n",
    "In the preceding section, we evaluated a given policy (the random policy) using montecarlo learning (remember, we don't have absolute knowledge about de MDP model). But, what about the policy improvement? Should we use the same method employed in the Dynamic Programming section? **Of course not.** As we already mentioned, MonteCarlo learning method learns from episodes of experience. This episodes are built by sampling, which means that if we use the same method proposed in the Dynamic Programming section to improve the agent policy, there is not guarentee that we will be able to properly evaluate the value of all the environment states. Furthermore, we can't compute the best action value based on the modelling used in the Dynamic Programming section because we don't have information about the transition probabilities between two states nor the reward function.\n",
    "\n",
    "Hence, we will use another approach to perform policy improvement using MonteCarlo Learning:\n",
    "\n",
    "1. MonteCarlo Policy Evaluation, $Q = q_{\\pi}$\n",
    "2. MonteCarlo Policy Improvement, $\\epsilon$-greedy policy.\n",
    "\n",
    "<img src=\"./imagenes/montecarlo_control_preview_algorithm.png\" width = \"600px\">\n",
    "\n",
    "---\n",
    "\n",
    "<img src=\"./imagenes/montecarlo_control_egreedy_algorithm.png\" width = \"600px\">\n"
   ]
  },
  {
   "cell_type": "code",
   "execution_count": 31,
   "metadata": {},
   "outputs": [],
   "source": [
    "# Import libraries.\n",
    "import matplotlib.pyplot as plt\n",
    "import matplotlib.patches as patches\n",
    "import matplotlib.image as img\n",
    "\n",
    "import numpy as np\n",
    "import pandas as pd\n",
    "import time\n",
    "import random\n",
    "from IPython.display import clear_output\n",
    "\n",
    "%matplotlib inline"
   ]
  },
  {
   "cell_type": "code",
   "execution_count": 19,
   "metadata": {},
   "outputs": [],
   "source": [
    "class Game():\n",
    "    \n",
    "    def __init__(self, environment, agent, q_value_table):\n",
    "        \n",
    "        self.environment = environment       \n",
    "        self.agent = agent           \n",
    "        self.graphics = Graphics()\n",
    "        self.table = q_value_table\n",
    "        \n",
    "    def update(self, secs, plot_values = False):\n",
    "        \n",
    "        pos = self.agent.getPosition()\n",
    "        self.graphics.render(pos, self.table, plot_values)\n",
    "        time.sleep(1)\n",
    "        clear_output(wait = True)\n",
    "        \n",
    "        while not (self.agent.pos[0] == 4 and self.agent.pos[1] == 3):\n",
    "                \n",
    "            # Select action according to greedy policy (epsilon = 0)\n",
    "            action = self.agent.takeAction(epsilon = 0)\n",
    "            \n",
    "            # Move agent.\n",
    "            self.agent.move(action, self.environment)\n",
    "            \n",
    "            # Get new agent position.\n",
    "            pos = self.agent.getPosition()\n",
    "            \n",
    "            # Render game.\n",
    "            self.graphics.render(pos, self.table, plot_values)\n",
    "            time.sleep(secs)\n",
    "            clear_output(wait = True)"
   ]
  },
  {
   "cell_type": "code",
   "execution_count": 51,
   "metadata": {},
   "outputs": [],
   "source": [
    "class Graphics():\n",
    "    \n",
    "    def __init__(self):\n",
    "        print(\"Graphics module ready!\")\n",
    "        self.grid_pos = [0.1, 0.3, 0.5, 0.7, 0.9]\n",
    "        \n",
    "        image_name = \"./imagenes/Robot.png\"\n",
    "        self.img_data = img.imread(image_name)\n",
    "        \n",
    "    def render(self, position, q_value_table, plot_values = True):\n",
    "            \n",
    "        fig1 = plt.figure(figsize=(7, 7))\n",
    "        ax1 = fig1.add_subplot(111, aspect='equal')\n",
    "\n",
    "        # Horizontal lines.\n",
    "        for i in range(0, 6):\n",
    "            ax1.axhline(i * 0.2, linewidth=2, color=\"#2D2D33\")\n",
    "            ax1.axvline(i * 0.2, linewidth=2, color=\"#2D2D33\")\n",
    "\n",
    "         # Salida, Meta & GameOver.\n",
    "        ax1.add_patch(patches.Rectangle((0.0, 0.0), 0.2, 0.2, facecolor = \"#F6D924\"))\n",
    "\n",
    "        ax1.add_patch(patches.Rectangle((0.2, 0.8), 0.2, 0.2, facecolor = \"#F6D924\"))\n",
    "        ax1.add_patch(patches.Rectangle((0.8, 0.2), 0.2, 0.2, facecolor = \"#F6D924\"))\n",
    "\n",
    "        ax1.add_patch(patches.Rectangle((0.8, 0.6), 0.2, 0.2, facecolor = \"#68FF33\"))\n",
    "        #ax1.add_patch(patches.Rectangle((0.8, 0.8), 0.2, 0.2, facecolor = \"#FF5533\"))\n",
    "\n",
    "        # Muros del juego.\n",
    "        ax1.add_patch(patches.Rectangle((0.2, 0.4), 0.2, 0.4, facecolor = \"#33A4FF\"))\n",
    "        ax1.add_patch(patches.Rectangle((0.6, 0.2), 0.2, 0.2, facecolor = \"#33A4FF\"))\n",
    "        ax1.add_patch(patches.Rectangle((0.2, 0.0), 0.2, 0.2, facecolor = \"#33A4FF\"))\n",
    "\n",
    "        ax1.add_patch(patches.Rectangle((0.4, 0.8), 0.2, 0.2, facecolor = \"#33A4FF\"))\n",
    "        ax1.add_patch(patches.Rectangle((0.4, 0.8), 0.2, 0.2, facecolor = \"#33A4FF\"))\n",
    "        ax1.add_patch(patches.Rectangle((0.8, 0.4), 0.2, 0.2, facecolor = \"#33A4FF\"))\n",
    "\n",
    "        # Limit grid view.\n",
    "        plt.ylim((0, 1))\n",
    "        plt.xlim((0, 1))\n",
    "\n",
    "        # Plot player.\n",
    "        plt.scatter(self.grid_pos[position[0]], self.grid_pos[position[1]], s = 100, color = \"black\", marker = \"o\", facecolor = \"blue\", edgecolors = \"blue\", zorder = 10)\n",
    "        #plt.imshow(self.img_data, extent = extents, zorder = 11)\n",
    "        \n",
    "        # Plot state values.\n",
    "        if plot_values:\n",
    "            for i in range(0, len(q_value_table)):\n",
    "                for j in range(0, len(q_value_table)):\n",
    "                    \n",
    "                    colors = [\"black\", \"black\", \"black\", \"black\"]\n",
    "                    fontsize_ = [11, 11, 11, 11]\n",
    "                    \n",
    "                    q_values = list()\n",
    "                    for action in range(0, 4):\n",
    "                        q_values.append(q_value_table[i][j][action])\n",
    "                    if not q_values == [0, 0, 0 ,0]:\n",
    "                        best_q = max(q_values)\n",
    "                        best_q = q_values.index(best_q)\n",
    "                        colors[best_q] = \"blue\"\n",
    "                        fontsize_[best_q] = 13\n",
    "\n",
    "                    # Up, bottom, left, right.\n",
    "                    plt.text(i/5 + 0.075, j/5 + 0.15, int(q_value_table[i][j][0]), fontsize=fontsize_[0], c = colors[0])\n",
    "                    plt.text(i/5 + 0.075, j/5 + 0.03, int(q_value_table[i][j][1]), fontsize=fontsize_[1], c = colors[1])\n",
    "                    plt.text(i/5 + 0.01, j/5 + 0.085, int(q_value_table[i][j][2]), fontsize=fontsize_[2], c = colors[2])\n",
    "                    plt.text(i/5 + 0.14, j/5 + 0.085, int(q_value_table[i][j][3]), fontsize=fontsize_[3], c = colors[3])\n",
    "\n",
    "        # Plot grid.\n",
    "        plt.axis(\"off\")\n",
    "        plt.show() "
   ]
  },
  {
   "cell_type": "code",
   "execution_count": 3,
   "metadata": {},
   "outputs": [],
   "source": [
    "class GridEnvironment():\n",
    "    \n",
    "    def __init__(self):\n",
    "        \n",
    "        self.rw = -1 # Living (Movement) Penalty\n",
    "        self.walls_and_paths = [[1, 1, 1, 1, 1], [0, 1, 0, 0, 1], [1, 1, 1, 1, 0], [1, 0, 1, 1, 1], [1, 1, 0, 1, 1]]\n",
    "        self.rewards = [[self.rw, self.rw, self.rw, self.rw, self.rw], \n",
    "                        [self.rw, self.rw, self.rw, self.rw, self.rw], \n",
    "                        [self.rw, self.rw, self.rw, self.rw, self.rw], \n",
    "                        [self.rw, self.rw, self.rw, self.rw, self.rw], \n",
    "                        [self.rw, self.rw, self.rw, 10, self.rw]]"
   ]
  },
  {
   "cell_type": "code",
   "execution_count": 4,
   "metadata": {},
   "outputs": [],
   "source": [
    "class modelFreeAgent():\n",
    "    \n",
    "    def __init__(self, policy, discount_factor):\n",
    "        self.pos = [0,0]\n",
    "        self.total_reward = 0\n",
    "        self.discount_factor = discount_factor\n",
    "        self.actions = [\"up\", \"down\", \"left\", \"right\"]\n",
    "        \n",
    "        # Start with a random policy. 0.25 chance of moving to any direction.\n",
    "        self.policy = policy   \n",
    "        \n",
    "    # Move!\n",
    "    def move(self, action, environment):\n",
    "        # Move to new position according to action taken.\n",
    "        self.pos = self.forwardState(self.pos, action, environment)\n",
    "        \n",
    "    # Take an action!\n",
    "    def takeAction(self, epsilon):\n",
    "        \n",
    "        # Select action according to policy.\n",
    "        action = self.policy[self.pos[0]][self.pos[1]]\n",
    "        if action == \"r\":\n",
    "            action = self.actions[random.randint(0, 3)]\n",
    "        else:\n",
    "            # Epsilon-greedy policy!\n",
    "            num = random.randint(1, 100)\n",
    "            if not num < (1 - epsilon + epsilon/len(self.actions)) * 100:\n",
    "                action = self.actions[random.randint(0, 3)]\n",
    "        return action\n",
    "        \n",
    "    # Get forward state.\n",
    "    def forwardState(self, pos, action, environment):\n",
    "        \n",
    "        # New position array.\n",
    "        new_position = pos\n",
    "        \n",
    "        # Compute new position based on action taken.\n",
    "        if(action == \"up\" and pos[1] < 4):\n",
    "            if(environment.walls_and_paths[pos[0]][pos[1] + 1]) == 1:\n",
    "                new_position = [pos[0], pos[1] + 1]\n",
    "        elif(action == \"down\" and pos[1] > 0):\n",
    "            if(environment.walls_and_paths[pos[0]][pos[1] - 1]) == 1:\n",
    "                new_position = [pos[0], pos[1] - 1]\n",
    "        elif(action == \"left\" and pos[0] > 0):\n",
    "            if(environment.walls_and_paths[pos[0] - 1][pos[1]]) == 1:\n",
    "                new_position = [pos[0] - 1, pos[1]]\n",
    "        elif(action == \"right\" and pos[0] < 4):\n",
    "            if(environment.walls_and_paths[pos[0] + 1][pos[1]]) == 1:\n",
    "                new_position = [pos[0] + 1, pos[1]]\n",
    "        return new_position\n",
    "    \n",
    "    def getPosition(self):\n",
    "        return self.pos.copy()\n",
    "    \n",
    "    def getReward(self):\n",
    "        return self.total_reward\n",
    "    \n",
    "    def setPosition(self, x, y):\n",
    "        self.pos = [x, y]\n",
    "        \n",
    "    def selectBestAction(self, value_state_table, environment):\n",
    "        \n",
    "        go_up = self.forwardState(self.pos, \"up\", environment)\n",
    "        go_down = self.forwardState(self.pos, \"down\", environment)\n",
    "        go_left = self.forwardState(self.pos, \"left\", environment)\n",
    "        go_right = self.forwardState(self.pos, \"right\", environment)\n",
    "        \n",
    "        up_value = value_state_table[go_up[0]][go_up[1]]\n",
    "        down_value = value_state_table[go_down[0]][go_down[1]]\n",
    "        left_value = value_state_table[go_left[0]][go_left[1]]\n",
    "        right_value = value_state_table[go_right[0]][go_right[1]]\n",
    "        values = [up_value, down_value, left_value, right_value]\n",
    "        \n",
    "        best_action = self.actions[values.index(max(values))] \n",
    "        return best_action       "
   ]
  },
  {
   "cell_type": "code",
   "execution_count": 5,
   "metadata": {},
   "outputs": [],
   "source": [
    "class PolicyControl(Graphics):\n",
    "    \n",
    "    # Initialize policy control object.\n",
    "    def __init__(self, environment, agent, epsilon = 0.2, ephocs = 10):\n",
    "        \n",
    "        # Initialize environment & agent.\n",
    "        self.environment = environment       \n",
    "        self.agent = agent               \n",
    "        \n",
    "        # Set ephocs and control method (visit: first or multiple).\n",
    "        self.ephocs = ephocs\n",
    "        self.graphics = Graphics()\n",
    "        \n",
    "        # Generate Q value table.\n",
    "        self.q_value_table = list()\n",
    "        for i in range(0, 5):\n",
    "            column = list()\n",
    "            for j in range(0, 5):\n",
    "                column.append([0, 0, 0, 0])\n",
    "            self.q_value_table.append(column)\n",
    "       \n",
    "        # Generate list for each state action.\n",
    "        self.lists_state_action = list()\n",
    "        for i in range(0, 5):\n",
    "            column = list()\n",
    "            for j in range(0, 5):\n",
    "                column.append([list(), list(), list(), list()])\n",
    "            self.lists_state_action.append(column)\n",
    "                \n",
    "    # Montecarlo control algorithm.\n",
    "    def montecarlo_policy_control_first_visit(self, velocity = 0.05, plot_ephocs = True, plot_evaluation = True):\n",
    "\n",
    "        # Evaluate k episodes.\n",
    "        for k in range(0, self.ephocs):\n",
    "            \n",
    "            #print(\"Episode: \", k)\n",
    "            #print(\"\")\n",
    "            \n",
    "\n",
    "            # Set epsilon.\n",
    "            epsilon = 0.2 #float(1/ (k+1))\n",
    "\n",
    "            # Generate a new episode.\n",
    "            episode = list()\n",
    "            episode = self.generateEpisode(k, epsilon, velocity, plot_ephocs)\n",
    "\n",
    "            # Get episode info.\n",
    "            list_of_states_action = episode[0].copy()\n",
    "            list_of_rewards = episode[1].copy()\n",
    "\n",
    "            # Initialize discount reward factor. \n",
    "            G = 0\n",
    "\n",
    "            # Execute montecarlo learning algorithm.\n",
    "            for s in range(0, len(list_of_states_action) - 1):\n",
    "\n",
    "                #print(list_of_states_action[len(list_of_states_action) - 1 - s])\n",
    "\n",
    "                # Update cumulative discount return.\n",
    "                G += self.agent.discount_factor * list_of_rewards[len(list_of_states_action) - 1 - s]\n",
    "\n",
    "                # Check if current state action is not in the list.\n",
    "                not_in_list = True\n",
    "\n",
    "                current_state_action = list_of_states_action[len(list_of_states_action) - 1 - s]\n",
    "                states_action_copy = list_of_states_action[0: len(list_of_states_action) - 2 - s].copy()\n",
    "                \n",
    "                #print(\"states_action_copy: \")\n",
    "                #print(states_action_copy)\n",
    "                #print(\"\")\n",
    "                \n",
    "                for sta in states_action_copy:\n",
    "                    if current_state_action == sta:\n",
    "                        not_in_list = False\n",
    "\n",
    "                # Update state value table.\n",
    "                if (not_in_list) and current_state_action[0] != [4, 3]:\n",
    "\n",
    "                    # Compute new state value.\n",
    "                    x_index = current_state_action[0][0]\n",
    "                    y_index = current_state_action[0][1]\n",
    "                    z_index = self.agent.actions.index(current_state_action[1])\n",
    "\n",
    "                    array = self.lists_state_action[x_index][y_index][z_index]\n",
    "                    array.append(G)\n",
    "                    average = self.getAverage(array)\n",
    "                    self.q_value_table[x_index][y_index][z_index] = average\n",
    "\n",
    "                    # Render Q-value update.\n",
    "                    if plot_evaluation: \n",
    "                        self.agent.setPosition(x_index, y_index)\n",
    "                        self.render()\n",
    "                        time.sleep(velocity)\n",
    "                        clear_output(wait = True)\n",
    "                        \n",
    "                    # Update e-greedy policy.\n",
    "                    #self.update_egreedy_policy(x_index, y_index)\n",
    "                    \n",
    "    # Montecarlo control algorithm.\n",
    "    def montecarlo_policy_control_multiple_visits(self, velocity = 0.05, plot_ephocs = True, plot_evaluation = True):\n",
    "\n",
    "        # Evaluate k episodes.\n",
    "        for k in range(0, self.ephocs):\n",
    "            \n",
    "            # Set epsilon.\n",
    "            epsilon = 0.2 # float(1/ (k+1))\n",
    "\n",
    "            # Generate a new episode.\n",
    "            episode = list()\n",
    "            episode = self.generateEpisode(k, epsilon, velocity, plot_ephocs)\n",
    "\n",
    "            # Get episode info.\n",
    "            list_of_states_action = episode[0].copy()\n",
    "            list_of_rewards = episode[1].copy()\n",
    "\n",
    "            # Initialize discount reward factor. \n",
    "            G = 0\n",
    "\n",
    "            # Execute montecarlo learning algorithm.\n",
    "            for s in range(0, len(list_of_states_action) - 1):\n",
    "\n",
    "                #print(list_of_states_action[len(list_of_states_action) - 1 - s])\n",
    "\n",
    "                # Update cumulative discount return.\n",
    "                G += self.agent.discount_factor * list_of_rewards[len(list_of_states_action) - 1 - s]\n",
    "\n",
    "                # Compute new state value.\n",
    "                current_state_action = list_of_states_action[len(list_of_states_action) - 1 - s]\n",
    "                x_index = current_state_action[0][0]\n",
    "                y_index = current_state_action[0][1]\n",
    "                z_index = self.agent.actions.index(current_state_action[1])\n",
    "\n",
    "                array = self.lists_state_action[x_index][y_index][z_index]\n",
    "                array.append(G)\n",
    "                average = self.getAverage(array)\n",
    "                self.q_value_table[x_index][y_index][z_index] = average\n",
    "\n",
    "                # Render Q-value update.\n",
    "                if plot_evaluation: \n",
    "                    self.agent.setPosition(x_index, y_index)\n",
    "                    self.render()\n",
    "                    time.sleep(velocity)\n",
    "                    clear_output(wait = True)\n",
    "\n",
    "                # Update e-greedy policy.\n",
    "                #self.update_egreedy_policy(x_index, y_index)\n",
    "                \n",
    "        \n",
    "                    \n",
    "    def generateEpisode(self, k, epsilon, velocity, plot_ephocs):\n",
    "        \n",
    "        # Initialize lists.\n",
    "        states_action_list = list()\n",
    "        reward_list = list()\n",
    "        \n",
    "        # Set agent position.\n",
    "        positions = [(0,0), (1, 4), (4, 1)]\n",
    "        initial_state = positions[k % 3]\n",
    "        self.agent.setPosition(initial_state[0], initial_state[1])\n",
    "\n",
    "        # While agent is not in the terminal state.\n",
    "        while not (self.agent.pos[0] == 4 and self.agent.pos[1] == 3):\n",
    "    \n",
    "            # Take an action according to the agent policy adn save data.\n",
    "            action = self.agent.takeAction(epsilon)\n",
    "            states_action_list.append([self.agent.pos, action])\n",
    "            action_new_pos = self.agent.forwardState(self.agent.pos, action, self.environment)\n",
    "            reward_list.append(self.environment.rewards[action_new_pos[0]][action_new_pos[1]])\n",
    "            \n",
    "            # Render Q-value update.\n",
    "            if plot_ephocs: \n",
    "                self.render()\n",
    "                time.sleep(velocity)\n",
    "                clear_output(wait = True)\n",
    "                \n",
    "            # Move agent.\n",
    "            self.agent.move(action, self.environment)\n",
    "            \n",
    "        return [states_action_list, reward_list]\n",
    "    \n",
    "    def render(self):\n",
    "        self.graphics.render(self.agent.pos, self.q_value_table)\n",
    "    \n",
    "    def getAverage(self, array):\n",
    "        average = 0\n",
    "        for num in array: \n",
    "            average += num\n",
    "        return average / len(array)\n",
    "    \n",
    "    # Update egreedy policy.\n",
    "    def update_egreedy_policy(self, x, y):\n",
    "        q_values = list()\n",
    "        for action in range(0, 4):\n",
    "            q_values.append(self.q_value_table[x][y][action])\n",
    "        if not q_values == [0, 0, 0, 0]:\n",
    "            best_q = max(q_values)\n",
    "            best_q = q_values.index(best_q)\n",
    "            self.agent.policy[x][y] = self.agent.actions[best_q]"
   ]
  },
  {
   "cell_type": "markdown",
   "metadata": {},
   "source": [
    "### 2.1 GLIE first visit algorithm."
   ]
  },
  {
   "cell_type": "code",
   "execution_count": 6,
   "metadata": {},
   "outputs": [
    {
     "name": "stdout",
     "output_type": "stream",
     "text": [
      "Graphics module ready!\n"
     ]
    },
    {
     "data": {
      "image/png": "[encoded data removed]",
      "text/plain": [
       "<Figure size 504x504 with 1 Axes>"
      ]
     },
     "metadata": {
      "needs_background": "light"
     },
     "output_type": "display_data"
    }
   ],
   "source": [
    "# Generate the random policy.\n",
    "policy = list()\n",
    "for i in range(0, 5):\n",
    "    column = list()\n",
    "    for j in range(0, 5):\n",
    "        column.append(\"r\")\n",
    "    policy.append(column)\n",
    "discount_factor = 0.5\n",
    "\n",
    "agent = modelFreeAgent(policy, discount_factor)\n",
    "environment = GridEnvironment()\n",
    "\n",
    "# MonteCarlo first visit.\n",
    "policy_control = PolicyControl(environment, agent, epsilon = 0.2, ephocs = 10000)\n",
    "policy_control.montecarlo_policy_control_first_visit(velocity = 0.01, plot_ephocs = False, plot_evaluation = False)\n",
    "policy_control.render()"
   ]
  },
  {
   "cell_type": "code",
   "execution_count": 7,
   "metadata": {},
   "outputs": [
    {
     "data": {
      "text/plain": [
       "[['r', 'r', 'r', 'r', 'r'],\n",
       " ['r', 'r', 'r', 'r', 'r'],\n",
       " ['r', 'r', 'r', 'r', 'r'],\n",
       " ['r', 'r', 'r', 'r', 'r'],\n",
       " ['r', 'r', 'r', 'r', 'r']]"
      ]
     },
     "execution_count": 7,
     "metadata": {},
     "output_type": "execute_result"
    }
   ],
   "source": [
    "agent.policy"
   ]
  },
  {
   "cell_type": "code",
   "execution_count": 9,
   "metadata": {},
   "outputs": [
    {
     "data": {
      "text/plain": [
       "[['up', 'right', 'down', 'down', 'down'],\n",
       " ['r', 'right', 'r', 'r', 'left'],\n",
       " ['up', 'up', 'up', 'right', 'r'],\n",
       " ['left', 'r', 'up', 'right', 'right'],\n",
       " ['left', 'down', 'r', 'r', 'down']]"
      ]
     },
     "execution_count": 9,
     "metadata": {},
     "output_type": "execute_result"
    }
   ],
   "source": [
    "# Update policy.\n",
    "for x in range(0, 5):\n",
    "    for y in range(0, 5): \n",
    "        q_values = list()\n",
    "        for action in range(0, 4):\n",
    "            q_values.append(policy_control.q_value_table[x][y][action])\n",
    "        if not q_values == [0, 0, 0, 0]:\n",
    "            best_q = max(q_values)\n",
    "            best_q = q_values.index(best_q)\n",
    "            agent.policy[x][y] = agent.actions[best_q]\n",
    "agent.policy"
   ]
  },
  {
   "cell_type": "code",
   "execution_count": 56,
   "metadata": {},
   "outputs": [
    {
     "data": {
      "image/png": "[encoded data removed]",
      "text/plain": [
       "<Figure size 504x504 with 1 Axes>"
      ]
     },
     "metadata": {
      "needs_background": "light"
     },
     "output_type": "display_data"
    }
   ],
   "source": [
    "agent.setPosition(0, 0)\n",
    "game = Game(environment, agent, policy_control.q_value_table)\n",
    "game.update(secs = 0.5, plot_values = True)"
   ]
  },
  {
   "cell_type": "code",
   "execution_count": 57,
   "metadata": {},
   "outputs": [
    {
     "data": {
      "image/png": "[encoded data removed]",
      "text/plain": [
       "<Figure size 504x504 with 1 Axes>"
      ]
     },
     "metadata": {
      "needs_background": "light"
     },
     "output_type": "display_data"
    }
   ],
   "source": [
    "agent.setPosition(4, 1)\n",
    "game = Game(environment, agent, policy_control.q_value_table)\n",
    "game.update(secs = 0.5, plot_values = True)"
   ]
  },
  {
   "cell_type": "code",
   "execution_count": 61,
   "metadata": {},
   "outputs": [
    {
     "data": {
      "image/png": "[encoded data removed]",
      "text/plain": [
       "<Figure size 504x504 with 1 Axes>"
      ]
     },
     "metadata": {
      "needs_background": "light"
     },
     "output_type": "display_data"
    }
   ],
   "source": [
    "agent.setPosition(1, 4)\n",
    "game = Game(environment, agent, policy_control.q_value_table)\n",
    "game.update(secs = 0.01, plot_values = True)"
   ]
  },
  {
   "cell_type": "markdown",
   "metadata": {},
   "source": [
    "### 2.1 GLIE multiple visits algorithm."
   ]
  },
  {
   "cell_type": "code",
   "execution_count": 7,
   "metadata": {},
   "outputs": [
    {
     "name": "stdout",
     "output_type": "stream",
     "text": [
      "Graphics module ready!\n"
     ]
    },
    {
     "data": {
      "image/png": "[encoded data removed]",
      "text/plain": [
       "<Figure size 504x504 with 1 Axes>"
      ]
     },
     "metadata": {
      "needs_background": "light"
     },
     "output_type": "display_data"
    }
   ],
   "source": [
    "# Generate the random policy.\n",
    "policy = list()\n",
    "for i in range(0, 5):\n",
    "    column = list()\n",
    "    for j in range(0, 5):\n",
    "        column.append(\"r\")\n",
    "    policy.append(column)\n",
    "discount_factor = 0.5\n",
    "\n",
    "agent = modelFreeAgent(policy, discount_factor)\n",
    "environment = GridEnvironment()\n",
    "\n",
    "# MonteCarlo multiple visits.\n",
    "policy_control = PolicyControl(environment, agent, epsilon = 0.2, ephocs = 100)\n",
    "policy_control.montecarlo_policy_control_multiple_visits(velocity = 0.01, plot_ephocs = False, plot_evaluation = False)\n",
    "policy_control.render()"
   ]
  }
 ],
 "metadata": {
  "kernelspec": {
   "display_name": "Python 3",
   "language": "python",
   "name": "python3"
  },
  "language_info": {
   "codemirror_mode": {
    "name": "ipython",
    "version": 3
   },
   "file_extension": ".py",
   "mimetype": "text/x-python",
   "name": "python",
   "nbconvert_exporter": "python",
   "pygments_lexer": "ipython3",
   "version": "3.7.3"
  }
 },
 "nbformat": 4,
 "nbformat_minor": 2
}
