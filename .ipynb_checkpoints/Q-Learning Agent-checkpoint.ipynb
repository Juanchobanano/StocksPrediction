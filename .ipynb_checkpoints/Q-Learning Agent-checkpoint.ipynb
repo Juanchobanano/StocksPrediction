{
 "cells": [
  {
   "cell_type": "markdown",
   "metadata": {},
   "source": [
    "# Q-Learning Agent \n",
    "---\n",
    "En este notebook se desarrolla un agente de Q-Learning que aprende a escapar de un pequeño laberinto. Para ello, se diseña un pequeño grid que recrea el puzzle de donde debe escapar, el cual incorpora una meta y un punto de \"game over\". Adicionalmente, se explora el diseño, testeo y optimización de políticas del agente. Para lograr el objetivo anterior, se definen algunas de las variables del agente de Q-Learning:\n",
    "\n",
    "**1. Ambiente:** El ambiente corresponde al laberinto en donde se encuentra el agente. Este laberinto consistirá en un grid de tamaño 4x3, el cual incorporá un punto de llegada y un punto de \"game over\". Adicionalmente, una de las casillas del grid será innacesible (o lo que es lo mismo, tendrá un muro).\n",
    "\n",
    "**2. Estados:** Los estados del agente corresponderán a la posición (coordenadas) en donde se encuentre. Por ejemplo, el estado del agente en el momento $t$ es $S_{t} = (1, 2)$.\n",
    "\n",
    "**3. Acciones:** Las acciones que puede tomar el agente son: Arriba ($up$), Abajo ($down$), Derecha ($right$), Izquierda ($left$). En caso en que el agente se \"estrelle con un muro\", el robot vuelve al estado en donde estaba.\n",
    "\n",
    "**4. Recompensas:** Para el caso del agente en el laberinto, se incluirá una \"penalidad de vida\", es decir, cada vez que el agente tome una acción, recibirá una recompensa constante $r$. Si llega a la meta, recibirá una recompensa $R_{win}$ y se pierde $R_{loss}$\n",
    "\n",
    "<img src=\"https://miro.medium.com/max/725/1*NyWUkwz1QhrVJj9ygCQ5nA.png\" alt=\"Smiley face\" height=\"300\" width=\"450\">"
   ]
  },
  {
   "cell_type": "code",
   "execution_count": 6,
   "metadata": {},
   "outputs": [],
   "source": [
    "import matplotlib.pyplot as plt\n",
    "import matplotlib.patches as patches\n",
    "import numpy as np\n",
    "import pandas as pd\n",
    "import time\n",
    "import random\n",
    "\n",
    "%matplotlib inline"
   ]
  },
  {
   "cell_type": "code",
   "execution_count": 7,
   "metadata": {},
   "outputs": [],
   "source": [
    "from IPython.display import clear_output"
   ]
  },
  {
   "cell_type": "code",
   "execution_count": 8,
   "metadata": {},
   "outputs": [],
   "source": [
    "import os\n",
    "def clear():\n",
    "    os.system( 'cls' )"
   ]
  },
  {
   "cell_type": "code",
   "execution_count": 9,
   "metadata": {},
   "outputs": [],
   "source": [
    "# Set walls and paths.\n",
    "walls_and_paths = [[1, 1, 1, 1, 1], [0, 1, 0, 0, 1], [1, 1, 1, 1, 0], [1, 0, 1, 1, 1], [1, 0, 1, 1, 1]]\n",
    "\n",
    "\n",
    "# Set rewards.\n",
    "rw = -1\n",
    "rewards = [[0, rw, rw, rw, rw], [rw, rw, rw, rw, rw], [rw, rw, rw, rw, rw], [rw, rw, rw, rw, rw], [rw, rw, rw, -10, 0]]"
   ]
  },
  {
   "cell_type": "code",
   "execution_count": 10,
   "metadata": {},
   "outputs": [],
   "source": [
    "def draw_grid(x, y, value_state_table):\n",
    "\n",
    "        grid_pos = [0.1, 0.3, 0.5, 0.7, 0.9]\n",
    "    \n",
    "        fig1 = plt.figure(figsize=(4, 4))\n",
    "        ax1 = fig1.add_subplot(111, aspect='equal')\n",
    "\n",
    "        # Horizontal lines.\n",
    "        for i in range(0, 6):\n",
    "            ax1.axhline(i * 0.2, linewidth=2, color=\"#2D2D33\")\n",
    "            ax1.axvline(i * 0.2, linewidth=2, color=\"#2D2D33\")\n",
    "\n",
    "        # Salida, Meta & GameOver.\n",
    "        ax1.add_patch(patches.Rectangle((0.0, 0.0), 0.2, 0.2, facecolor = \"#F6D924\"))\n",
    "        ax1.add_patch(patches.Rectangle((0.8, 0.8), 0.2, 0.2, facecolor = \"#68FF33\"))\n",
    "        ax1.add_patch(patches.Rectangle((0.8, 0.6), 0.2, 0.2, facecolor = \"#FF5533\"))\n",
    "\n",
    "        # Muros del juego.\n",
    "        ax1.add_patch(patches.Rectangle((0.2, 0.4), 0.2, 0.4, facecolor = \"#33A4FF\"))\n",
    "        ax1.add_patch(patches.Rectangle((0.6, 0.2), 0.2, 0.2, facecolor = \"#33A4FF\"))\n",
    "        ax1.add_patch(patches.Rectangle((0.2, 0.0), 0.2, 0.2, facecolor = \"#33A4FF\"))\n",
    "        ax1.add_patch(patches.Rectangle((0.8, 0.2), 0.2, 0.2, facecolor = \"#33A4FF\"))\n",
    "        ax1.add_patch(patches.Rectangle((0.4, 0.8), 0.2, 0.2, facecolor = \"#33A4FF\"))\n",
    "\n",
    "        # Limit grid view.\n",
    "        plt.ylim((0, 1))\n",
    "        plt.xlim((0, 1))\n",
    "\n",
    "        # Plot text reward.\n",
    "        pos_correct = -.02\n",
    "        #plt.text(0.9 + pos_correct, 0.9 + pos_correct, \"1\", fontsize=16)\n",
    "        #plt.text(0.9 + pos_correct, 0.7 + pos_correct, \"-1\", fontsize=16)\n",
    "        plt.scatter(x, y, s = 100, color = \"black\", marker = \"x\", edgecolors = \"black\", zorder = 10)\n",
    "\n",
    "        # Plot state values.\n",
    "        for i in range(0, len(value_state_table)):\n",
    "            for j in range(0, len(value_state_table[0])):\n",
    "                plt.text(grid_pos[i] - 0.02, grid_pos[j] - 0.03, value_state_table[i][j], fontsize=16)\n",
    "                \n",
    "        # Plot grid.\n",
    "        plt.axis(\"off\")\n",
    "        plt.show()"
   ]
  },
  {
   "cell_type": "code",
   "execution_count": 11,
   "metadata": {},
   "outputs": [],
   "source": [
    "# Random agent.\n",
    "class randomAgent():\n",
    "    \n",
    "    def __init__(self):\n",
    "        self.pos = [0, 0]\n",
    "        self.actions = [\"up\", \"down\", \"left\", \"right\"]\n",
    "        self.living_penalty = -1\n",
    "        self.total_reward = 0\n",
    "        \n",
    "    def selectAction(self):\n",
    "        action = self.actions[random.randint(0, 3)]\n",
    "        return action \n",
    "    \n",
    "    def move(self):\n",
    "        act = self.selectAction()\n",
    "        previous_pos = self.pos.copy()\n",
    "        self.total_reward += self.living_penalty\n",
    "        \n",
    "        print(\"Action taken: \", act)\n",
    "        \n",
    "        try:\n",
    "            if(act == \"up\" and self.pos[1] < 4):\n",
    "                \n",
    "                if(walls_and_paths[self.pos[0]][self.pos[1] + 1]) == 1:\n",
    "                    self.pos = [self.pos[0], self.pos[1] + 1]\n",
    "\n",
    "            elif(act == \"down\" and self.pos[1] > 0):\n",
    "\n",
    "                if(walls_and_paths[self.pos[0]][self.pos[1] - 1]) == 1:\n",
    "                    self.pos = [self.pos[0], self.pos[1] - 1]\n",
    "\n",
    "            elif(act == \"left\" and self.pos[0] > 0):\n",
    "\n",
    "                if(walls_and_paths[self.pos[0] - 1][self.pos[1]]) == 1:\n",
    "                    self.pos = [self.pos[0] - 1, self.pos[1]]\n",
    "\n",
    "            elif(act == \"right\" and self.pos[0] < 4):\n",
    "                if(walls_and_paths[self.pos[0] + 1][self.pos[1]]) == 1:\n",
    "                    self.pos = [self.pos[0] + 1, self.pos[1]]\n",
    "        except:\n",
    "            pass\n",
    "        \n",
    "    def getPos(self):\n",
    "        return self.pos"
   ]
  },
  {
   "cell_type": "code",
   "execution_count": 14,
   "metadata": {},
   "outputs": [],
   "source": [
    "class valueBasedAgent():\n",
    "    \n",
    "    def __init__(self):\n",
    "        self.pos = [0, 0]\n",
    "        self.actions = [\"up\", \"down\", \"left\", \"right\"]\n",
    "        self.total_reward = 0\n",
    "        \n",
    "        self.delta = 0\n",
    "        self.sigma = 20\n",
    "        self.living_penalty = -1\n",
    "        self.value_state_table = [[0, 0, 0, 0, 0], [0, 0, 0, 0, 0], [0, 0, 0, 0, 0], [0, 0, 0, 0, 0], [0, 0, 0, 0, 0]]\n",
    "        \n",
    "    def valueFunction(self, state):\n",
    "        \n",
    "        prob = 0.25\n",
    "        learning_rate = 0.3\n",
    "        state_value = 0\n",
    "        \n",
    "        for a in self.actions: \n",
    "            \n",
    "            new_states = self.computeNewStates(state)\n",
    "            expected_return = 0\n",
    "            \n",
    "            for s in new_states:\n",
    "                expected_return += (rewards[s[0]][s[1]]) # + learning_rate * self.valueFunction(s))\n",
    "            state_value += prob * expected_return \n",
    "        \n",
    "        return state_value\n",
    "    \n",
    "    \n",
    "    def computeNewStates(self, state):\n",
    "        \n",
    "        \n",
    "        can_go_up = (walls_and_paths[self.pos[0]][self.pos[1] + 1] == 1) and ((state[1] + 1) > 4)\n",
    "        if can_go_up: \n",
    "            up = [state[0], state[1] + 1] \n",
    "        else: \n",
    "            up = state\n",
    "        \n",
    "        can_go_down = (walls_and_paths[self.pos[0]][self.pos[1] - 1] == 1) and ((state[1] - 1) > 0)\n",
    "        if can_go_down: \n",
    "            down = [state[0], state[1] - 1] \n",
    "        else: \n",
    "            down = state\n",
    "                \n",
    "        can_go_left = (walls_and_paths[self.pos[0] - 1][self.pos[1]] == 1) and ((state[0] - 1) > 0)\n",
    "        if can_go_left: \n",
    "            left = [state[0] - 1, state[1]] \n",
    "        else: \n",
    "            left = state\n",
    "                \n",
    "        can_go_right = (walls_and_paths[self.pos[0] + 1][self.pos[1]] == 1) and ((state[0] + 1) < 4)\n",
    "        if can_go_right: \n",
    "            right = [state[0] + 1, state[1]] \n",
    "        else: \n",
    "            right = state\n",
    "        \n",
    "        return [up, down, left, right]\n",
    "        \n",
    "        \n",
    "    def updateValueStateTable(self, value_state_table, state = [0, 0]):\n",
    "        \n",
    "        new_table = value_state_table\n",
    "        new_state_value = self.valueFunction(state)\n",
    "        new_table[state[0]][state[1]] = new_state_value\n",
    "        return new_table\n",
    "        \n",
    "    def selectAction(self):\n",
    "        action = self.actions[random.randint(0, 3)]\n",
    "        return action \n",
    "    \n",
    "    def move(self):\n",
    "        \n",
    "        # Select action.\n",
    "        act = self.selectAction()\n",
    "        print(\"Action taken: \", act)\n",
    "        \n",
    "        # Give living penalty reward.\n",
    "        #self.giveReward(self.living_penalty)\n",
    "        \n",
    "        # Update the Value State Table.\n",
    "        self.value_state_table = self.updateValueStateTable(self.value_state_table, state = self.pos)\n",
    "        \n",
    "        # Move the player.\n",
    "        try:\n",
    "            if(act == \"up\" and self.pos[1] < 4):\n",
    "                \n",
    "                if(walls_and_paths[self.pos[0]][self.pos[1] + 1]) == 1:\n",
    "                    self.pos = [self.pos[0], self.pos[1] + 1]\n",
    "\n",
    "            elif(act == \"down\" and self.pos[1] > 0):\n",
    "\n",
    "                if(walls_and_paths[self.pos[0]][self.pos[1] - 1]) == 1:\n",
    "                    self.pos = [self.pos[0], self.pos[1] - 1]\n",
    "\n",
    "            elif(act == \"left\" and self.pos[0] > 0):\n",
    "\n",
    "                if(walls_and_paths[self.pos[0] - 1][self.pos[1]]) == 1:\n",
    "                    self.pos = [self.pos[0] - 1, self.pos[1]]\n",
    "\n",
    "            elif(act == \"right\" and self.pos[0] < 4):\n",
    "                if(walls_and_paths[self.pos[0] + 1][self.pos[1]]) == 1:\n",
    "                    self.pos = [self.pos[0] + 1, self.pos[1]]\n",
    "        except:\n",
    "            pass\n",
    "        \n",
    "    def getPos(self):\n",
    "        return self.pos\n",
    "    \n",
    "    def getTotalReward(self):\n",
    "        return self.total_reward\n",
    "    \n",
    "    def giveReward(self, points):\n",
    "        self.total_reward += points"
   ]
  },
  {
   "cell_type": "markdown",
   "metadata": {},
   "source": [
    "## Random Agent."
   ]
  },
  {
   "cell_type": "code",
   "execution_count": 43,
   "metadata": {
    "scrolled": false
   },
   "outputs": [
    {
     "name": "stdout",
     "output_type": "stream",
     "text": [
      "------\n",
      "Action taken:  up\n",
      "Position:  ( 4 , 3 )\n"
     ]
    },
    {
     "data": {
      "image/png": "[encoded data removed]",
      "text/plain": [
       "<Figure size 288x288 with 1 Axes>"
      ]
     },
     "metadata": {
      "needs_background": "light"
     },
     "output_type": "display_data"
    }
   ],
   "source": [
    "grid_pos = [0.1, 0.3, 0.5, 0.7, 0.9]\n",
    "\n",
    "agent = randomAgent()\n",
    "pos = agent.getPos()\n",
    "#print(\"Position: \", pos[0], pos[1])\n",
    "draw_grid(pos[0] + 0.1, pos[1] + 0.1)\n",
    "\n",
    "while not ((pos[0] == 4 and pos[1] == 4) or (pos[0] == 4 and pos[1] == 3)):\n",
    "    print(\"------\")\n",
    "    agent.move()\n",
    "    pos = agent.getPos()\n",
    "    \n",
    "    print(\"Position: \", \"(\", pos[0], \",\", pos[1], \")\")\n",
    "    draw_grid(grid_pos[pos[0]], grid_pos[pos[1]])\n",
    "    time.sleep(0.1)\n",
    "    clear_output(wait=True)"
   ]
  },
  {
   "cell_type": "markdown",
   "metadata": {},
   "source": [
    "## Value Based Agent."
   ]
  },
  {
   "cell_type": "code",
   "execution_count": 15,
   "metadata": {},
   "outputs": [
    {
     "name": "stdout",
     "output_type": "stream",
     "text": [
      "------\n",
      "Action taken:  left\n"
     ]
    },
    {
     "ename": "IndexError",
     "evalue": "list index out of range",
     "output_type": "error",
     "traceback": [
      "\u001b[1;31m---------------------------------------------------------------------------\u001b[0m",
      "\u001b[1;31mIndexError\u001b[0m                                Traceback (most recent call last)",
      "\u001b[1;32m<ipython-input-15-2dc2f24d3a2a>\u001b[0m in \u001b[0;36m<module>\u001b[1;34m\u001b[0m\n\u001b[0;32m      8\u001b[0m \u001b[1;32mwhile\u001b[0m \u001b[1;32mnot\u001b[0m \u001b[1;33m(\u001b[0m\u001b[1;33m(\u001b[0m\u001b[0mpos\u001b[0m\u001b[1;33m[\u001b[0m\u001b[1;36m0\u001b[0m\u001b[1;33m]\u001b[0m \u001b[1;33m==\u001b[0m \u001b[1;36m4\u001b[0m \u001b[1;32mand\u001b[0m \u001b[0mpos\u001b[0m\u001b[1;33m[\u001b[0m\u001b[1;36m1\u001b[0m\u001b[1;33m]\u001b[0m \u001b[1;33m==\u001b[0m \u001b[1;36m4\u001b[0m\u001b[1;33m)\u001b[0m \u001b[1;32mor\u001b[0m \u001b[1;33m(\u001b[0m\u001b[0mpos\u001b[0m\u001b[1;33m[\u001b[0m\u001b[1;36m0\u001b[0m\u001b[1;33m]\u001b[0m \u001b[1;33m==\u001b[0m \u001b[1;36m4\u001b[0m \u001b[1;32mand\u001b[0m \u001b[0mpos\u001b[0m\u001b[1;33m[\u001b[0m\u001b[1;36m1\u001b[0m\u001b[1;33m]\u001b[0m \u001b[1;33m==\u001b[0m \u001b[1;36m3\u001b[0m\u001b[1;33m)\u001b[0m\u001b[1;33m)\u001b[0m\u001b[1;33m:\u001b[0m\u001b[1;33m\u001b[0m\u001b[1;33m\u001b[0m\u001b[0m\n\u001b[0;32m      9\u001b[0m     \u001b[0mprint\u001b[0m\u001b[1;33m(\u001b[0m\u001b[1;34m\"------\"\u001b[0m\u001b[1;33m)\u001b[0m\u001b[1;33m\u001b[0m\u001b[1;33m\u001b[0m\u001b[0m\n\u001b[1;32m---> 10\u001b[1;33m     \u001b[0magent\u001b[0m\u001b[1;33m.\u001b[0m\u001b[0mmove\u001b[0m\u001b[1;33m(\u001b[0m\u001b[1;33m)\u001b[0m\u001b[1;33m\u001b[0m\u001b[1;33m\u001b[0m\u001b[0m\n\u001b[0m\u001b[0;32m     11\u001b[0m     \u001b[0mpos\u001b[0m \u001b[1;33m=\u001b[0m \u001b[0magent\u001b[0m\u001b[1;33m.\u001b[0m\u001b[0mgetPos\u001b[0m\u001b[1;33m(\u001b[0m\u001b[1;33m)\u001b[0m\u001b[1;33m\u001b[0m\u001b[1;33m\u001b[0m\u001b[0m\n\u001b[0;32m     12\u001b[0m \u001b[1;33m\u001b[0m\u001b[0m\n",
      "\u001b[1;32m<ipython-input-14-3a1cc1da5658>\u001b[0m in \u001b[0;36mmove\u001b[1;34m(self)\u001b[0m\n\u001b[0;32m     80\u001b[0m \u001b[1;33m\u001b[0m\u001b[0m\n\u001b[0;32m     81\u001b[0m         \u001b[1;31m# Update the Value State Table.\u001b[0m\u001b[1;33m\u001b[0m\u001b[1;33m\u001b[0m\u001b[1;33m\u001b[0m\u001b[0m\n\u001b[1;32m---> 82\u001b[1;33m         \u001b[0mself\u001b[0m\u001b[1;33m.\u001b[0m\u001b[0mvalue_state_table\u001b[0m \u001b[1;33m=\u001b[0m \u001b[0mself\u001b[0m\u001b[1;33m.\u001b[0m\u001b[0mupdateValueStateTable\u001b[0m\u001b[1;33m(\u001b[0m\u001b[0mself\u001b[0m\u001b[1;33m.\u001b[0m\u001b[0mvalue_state_table\u001b[0m\u001b[1;33m,\u001b[0m \u001b[0mstate\u001b[0m \u001b[1;33m=\u001b[0m \u001b[0mself\u001b[0m\u001b[1;33m.\u001b[0m\u001b[0mpos\u001b[0m\u001b[1;33m)\u001b[0m\u001b[1;33m\u001b[0m\u001b[1;33m\u001b[0m\u001b[0m\n\u001b[0m\u001b[0;32m     83\u001b[0m \u001b[1;33m\u001b[0m\u001b[0m\n\u001b[0;32m     84\u001b[0m         \u001b[1;31m# Move the player.\u001b[0m\u001b[1;33m\u001b[0m\u001b[1;33m\u001b[0m\u001b[1;33m\u001b[0m\u001b[0m\n",
      "\u001b[1;32m<ipython-input-14-3a1cc1da5658>\u001b[0m in \u001b[0;36mupdateValueStateTable\u001b[1;34m(self, value_state_table, state)\u001b[0m\n\u001b[0;32m     62\u001b[0m \u001b[1;33m\u001b[0m\u001b[0m\n\u001b[0;32m     63\u001b[0m         \u001b[0mnew_table\u001b[0m \u001b[1;33m=\u001b[0m \u001b[0mvalue_state_table\u001b[0m\u001b[1;33m\u001b[0m\u001b[1;33m\u001b[0m\u001b[0m\n\u001b[1;32m---> 64\u001b[1;33m         \u001b[0mnew_state_value\u001b[0m \u001b[1;33m=\u001b[0m \u001b[0mself\u001b[0m\u001b[1;33m.\u001b[0m\u001b[0mvalueFunction\u001b[0m\u001b[1;33m(\u001b[0m\u001b[0mstate\u001b[0m\u001b[1;33m)\u001b[0m\u001b[1;33m\u001b[0m\u001b[1;33m\u001b[0m\u001b[0m\n\u001b[0m\u001b[0;32m     65\u001b[0m         \u001b[0mnew_table\u001b[0m\u001b[1;33m[\u001b[0m\u001b[0mstate\u001b[0m\u001b[1;33m[\u001b[0m\u001b[1;36m0\u001b[0m\u001b[1;33m]\u001b[0m\u001b[1;33m]\u001b[0m\u001b[1;33m[\u001b[0m\u001b[0mstate\u001b[0m\u001b[1;33m[\u001b[0m\u001b[1;36m1\u001b[0m\u001b[1;33m]\u001b[0m\u001b[1;33m]\u001b[0m \u001b[1;33m=\u001b[0m \u001b[0mnew_state_value\u001b[0m\u001b[1;33m\u001b[0m\u001b[1;33m\u001b[0m\u001b[0m\n\u001b[0;32m     66\u001b[0m         \u001b[1;32mreturn\u001b[0m \u001b[0mnew_table\u001b[0m\u001b[1;33m\u001b[0m\u001b[1;33m\u001b[0m\u001b[0m\n",
      "\u001b[1;32m<ipython-input-14-3a1cc1da5658>\u001b[0m in \u001b[0;36mvalueFunction\u001b[1;34m(self, state)\u001b[0m\n\u001b[0;32m     19\u001b[0m         \u001b[1;32mfor\u001b[0m \u001b[0ma\u001b[0m \u001b[1;32min\u001b[0m \u001b[0mself\u001b[0m\u001b[1;33m.\u001b[0m\u001b[0mactions\u001b[0m\u001b[1;33m:\u001b[0m\u001b[1;33m\u001b[0m\u001b[1;33m\u001b[0m\u001b[0m\n\u001b[0;32m     20\u001b[0m \u001b[1;33m\u001b[0m\u001b[0m\n\u001b[1;32m---> 21\u001b[1;33m             \u001b[0mnew_states\u001b[0m \u001b[1;33m=\u001b[0m \u001b[0mself\u001b[0m\u001b[1;33m.\u001b[0m\u001b[0mcomputeNewStates\u001b[0m\u001b[1;33m(\u001b[0m\u001b[0mstate\u001b[0m\u001b[1;33m)\u001b[0m\u001b[1;33m\u001b[0m\u001b[1;33m\u001b[0m\u001b[0m\n\u001b[0m\u001b[0;32m     22\u001b[0m             \u001b[0mexpected_return\u001b[0m \u001b[1;33m=\u001b[0m \u001b[1;36m0\u001b[0m\u001b[1;33m\u001b[0m\u001b[1;33m\u001b[0m\u001b[0m\n\u001b[0;32m     23\u001b[0m \u001b[1;33m\u001b[0m\u001b[0m\n",
      "\u001b[1;32m<ipython-input-14-3a1cc1da5658>\u001b[0m in \u001b[0;36mcomputeNewStates\u001b[1;34m(self, state)\u001b[0m\n\u001b[0;32m     32\u001b[0m \u001b[1;33m\u001b[0m\u001b[0m\n\u001b[0;32m     33\u001b[0m \u001b[1;33m\u001b[0m\u001b[0m\n\u001b[1;32m---> 34\u001b[1;33m         \u001b[0mcan_go_up\u001b[0m \u001b[1;33m=\u001b[0m \u001b[1;33m(\u001b[0m\u001b[0mwalls_and_paths\u001b[0m\u001b[1;33m[\u001b[0m\u001b[0mself\u001b[0m\u001b[1;33m.\u001b[0m\u001b[0mpos\u001b[0m\u001b[1;33m[\u001b[0m\u001b[1;36m0\u001b[0m\u001b[1;33m]\u001b[0m\u001b[1;33m]\u001b[0m\u001b[1;33m[\u001b[0m\u001b[0mself\u001b[0m\u001b[1;33m.\u001b[0m\u001b[0mpos\u001b[0m\u001b[1;33m[\u001b[0m\u001b[1;36m1\u001b[0m\u001b[1;33m]\u001b[0m \u001b[1;33m+\u001b[0m \u001b[1;36m1\u001b[0m\u001b[1;33m]\u001b[0m \u001b[1;33m==\u001b[0m \u001b[1;36m1\u001b[0m\u001b[1;33m)\u001b[0m \u001b[1;32mand\u001b[0m \u001b[1;33m(\u001b[0m\u001b[1;33m(\u001b[0m\u001b[0mstate\u001b[0m\u001b[1;33m[\u001b[0m\u001b[1;36m1\u001b[0m\u001b[1;33m]\u001b[0m \u001b[1;33m+\u001b[0m \u001b[1;36m1\u001b[0m\u001b[1;33m)\u001b[0m \u001b[1;33m>\u001b[0m \u001b[1;36m4\u001b[0m\u001b[1;33m)\u001b[0m\u001b[1;33m\u001b[0m\u001b[1;33m\u001b[0m\u001b[0m\n\u001b[0m\u001b[0;32m     35\u001b[0m         \u001b[1;32mif\u001b[0m \u001b[0mcan_go_up\u001b[0m\u001b[1;33m:\u001b[0m\u001b[1;33m\u001b[0m\u001b[1;33m\u001b[0m\u001b[0m\n\u001b[0;32m     36\u001b[0m             \u001b[0mup\u001b[0m \u001b[1;33m=\u001b[0m \u001b[1;33m[\u001b[0m\u001b[0mstate\u001b[0m\u001b[1;33m[\u001b[0m\u001b[1;36m0\u001b[0m\u001b[1;33m]\u001b[0m\u001b[1;33m,\u001b[0m \u001b[0mstate\u001b[0m\u001b[1;33m[\u001b[0m\u001b[1;36m1\u001b[0m\u001b[1;33m]\u001b[0m \u001b[1;33m+\u001b[0m \u001b[1;36m1\u001b[0m\u001b[1;33m]\u001b[0m\u001b[1;33m\u001b[0m\u001b[1;33m\u001b[0m\u001b[0m\n",
      "\u001b[1;31mIndexError\u001b[0m: list index out of range"
     ]
    }
   ],
   "source": [
    "grid_pos = [0.1, 0.3, 0.5, 0.7, 0.9]\n",
    "\n",
    "agent = valueBasedAgent()\n",
    "pos = agent.getPos()\n",
    "#print(\"Position: \", pos[0], pos[1])\n",
    "draw_grid(pos[0] + 0.1, pos[1] + 0.1, agent.value_state_table)\n",
    "\n",
    "while not ((pos[0] == 4 and pos[1] == 4) or (pos[0] == 4 and pos[1] == 3)):\n",
    "    print(\"------\")\n",
    "    agent.move()\n",
    "    pos = agent.getPos()\n",
    "    \n",
    "    print(\"Position: \", \"(\", pos[0], \",\", pos[1], \")\")\n",
    "    draw_grid(grid_pos[pos[0]], grid_pos[pos[1]], agent.value_state_table)\n",
    "    time.sleep(0.1)\n",
    "    clear_output(wait=True)"
   ]
  },
  {
   "cell_type": "code",
   "execution_count": 2,
   "metadata": {},
   "outputs": [
    {
     "data": {
      "text/plain": [
       "<function sys.getrecursionlimit>"
      ]
     },
     "execution_count": 2,
     "metadata": {},
     "output_type": "execute_result"
    }
   ],
   "source": [
    "import sys\n",
    "sys.getrecursionlimit\n"
   ]
  },
  {
   "cell_type": "code",
   "execution_count": 16,
   "metadata": {},
   "outputs": [
    {
     "data": {
      "text/plain": [
       "3000"
      ]
     },
     "execution_count": 16,
     "metadata": {},
     "output_type": "execute_result"
    }
   ],
   "source": [
    "sys.getrecursionlimit()"
   ]
  },
  {
   "cell_type": "code",
   "execution_count": 3,
   "metadata": {},
   "outputs": [],
   "source": [
    "sys.setrecursionlimit(3000)"
   ]
  },
  {
   "cell_type": "code",
   "execution_count": null,
   "metadata": {},
   "outputs": [],
   "source": []
  },
  {
   "cell_type": "code",
   "execution_count": null,
   "metadata": {},
   "outputs": [],
   "source": []
  },
  {
   "cell_type": "code",
   "execution_count": 21,
   "metadata": {},
   "outputs": [],
   "source": [
    "# Grid World characteristics.\n",
    "class GridWorld():\n",
    "    \n",
    "    def __init__(self):\n",
    "        \n",
    "        # Grid walls and paths.\n",
    "        self.walls_and_paths = [[1, 1, 1, 1, 1], [0, 1, 0, 0, 1], [1, 1, 1, 1, 0], [1, 0, 1, 1, 1], [1, 0, 1, 1, 1]\n",
    "        \n",
    "        # Value State table.\n",
    "        self.value_state_table = [[0, 0, 0, 0, 0], [0, 0, 0, 0, 0], [0, 0, 0, 0, 0], [0, 0, 0, 0, 0], [0, 0, 0, 0, 0]]\n",
    "        \n",
    "        # Initialize random agent.\n",
    "        self.agent = randomAgent()\n",
    "                                \n",
    "    # Dynaminc Programming.\n",
    "    def stateValue(self):\n",
    "        \n",
    "        return \"\"\n",
    "    \n",
    "    def actionStateValue(self):\n",
    "        return \"\"\n",
    " \n",
    "    # Draw Grid.\n",
    "    def draw_grid(x, y):\n",
    "\n",
    "        fig1 = plt.figure(figsize=(4, 4))\n",
    "        ax1 = fig1.add_subplot(111, aspect='equal')\n",
    "\n",
    "        # Horizontal lines.\n",
    "        for i in range(0, 6):\n",
    "            ax1.axhline(i * 0.2, linewidth=2, color=\"#2D2D33\")\n",
    "            ax1.axvline(i * 0.2, linewidth=2, color=\"#2D2D33\")\n",
    "\n",
    "        # Salida, Meta & GameOver.\n",
    "        ax1.add_patch(patches.Rectangle((0.0, 0.0), 0.2, 0.2, facecolor = \"#F6D924\"))\n",
    "        ax1.add_patch(patches.Rectangle((0.8, 0.8), 0.2, 0.2, facecolor = \"#68FF33\"))\n",
    "        ax1.add_patch(patches.Rectangle((0.8, 0.6), 0.2, 0.2, facecolor = \"#FF5533\"))\n",
    "\n",
    "        # Muros del juego.\n",
    "        ax1.add_patch(patches.Rectangle((0.2, 0.4), 0.2, 0.4, facecolor = \"#33A4FF\"))\n",
    "        ax1.add_patch(patches.Rectangle((0.6, 0.2), 0.2, 0.2, facecolor = \"#33A4FF\"))\n",
    "        ax1.add_patch(patches.Rectangle((0.2, 0.0), 0.2, 0.2, facecolor = \"#33A4FF\"))\n",
    "        ax1.add_patch(patches.Rectangle((0.8, 0.2), 0.2, 0.2, facecolor = \"#33A4FF\"))\n",
    "        ax1.add_patch(patches.Rectangle((0.4, 0.8), 0.2, 0.2, facecolor = \"#33A4FF\"))\n",
    "\n",
    "        # Limit grid view.\n",
    "        plt.ylim((0, 1))\n",
    "        plt.xlim((0, 1))\n",
    "\n",
    "        # Plot text reward.\n",
    "        pos_correct = -.02\n",
    "        plt.text(0.9 + pos_correct, 0.9 + pos_correct, \"1\", fontsize=16)\n",
    "        plt.text(0.9 + pos_correct, 0.7 + pos_correct, \"-1\", fontsize=16)\n",
    "        plt.scatter(x, y, s = 100, color = \"black\", marker = \"x\", edgecolors = \"black\", zorder = 10)\n",
    "\n",
    "        # Plot grid.\n",
    "        plt.axis(\"off\")\n",
    "        plt.show()\n",
    "\n",
    "                 \n",
    "# Initialize GridWorld obj.\n",
    "gridworld = GridWorld()"
   ]
  },
  {
   "cell_type": "code",
   "execution_count": null,
   "metadata": {},
   "outputs": [],
   "source": [
    "class GridWorld():\n",
    "    \n",
    "    def __init__(width = 5, height = 5, living_penalty = 0):\n",
    "        self.width = width\n",
    "        self.height = height\n",
    "        \n",
    "        # Value State table.\n",
    "        value_state_table = [[0, 0, 0, 0, 0], [0, 0, 0, 0, 0], [0, 0, 0, 0, 0], [0, 0, 0, 0, 0], [0, 0, 0, 0, 0]]\n",
    "        \n",
    "        # State value matrix.\n",
    "        \"\"\"\n",
    "        state_matrix = list()\n",
    "        for i in range(0, height):\n",
    "            row_values = list()\n",
    "    \n",
    "            for j in range(0, width):\n",
    "                row_values.append(self.living_penalty)\n",
    "            state_matrix.append(row_values)\n",
    "        \n",
    "        # Action State value matrix.\n",
    "        action_state_matrix = list()\n",
    "        for i in range(0, height):\n",
    "            row_values = list()\n",
    "            for j in range(0, width):\n",
    "                state_q_values = list()\n",
    "                \n",
    "                for k in range(0, 4):\n",
    "                    state_q_values.append(0)\n",
    "                    \n",
    "                row_values.append(state_q_values)\n",
    "            action_state_matrix.append(row_values)\n",
    "        \"\"\"\n",
    "                    \n",
    "    def stateValue():\n",
    "        return \"\"\n",
    "    \n",
    "    def actionStateValue():\n",
    "        return \"\""
   ]
  }
 ],
 "metadata": {
  "kernelspec": {
   "display_name": "Python 3",
   "language": "python",
   "name": "python3"
  },
  "language_info": {
   "codemirror_mode": {
    "name": "ipython",
    "version": 3
   },
   "file_extension": ".py",
   "mimetype": "text/x-python",
   "name": "python",
   "nbconvert_exporter": "python",
   "pygments_lexer": "ipython3",
   "version": "3.7.3"
  }
 },
 "nbformat": 4,
 "nbformat_minor": 2
}
