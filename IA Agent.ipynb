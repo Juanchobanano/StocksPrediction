{
 "cells": [
  {
   "cell_type": "markdown",
   "metadata": {},
   "source": [
    "# IA Agent.\n",
    "---\n",
    "En este notebook se desarrolla un agente de Q-Learning que aprende a escapar de un pequeño laberinto. Para ello, se diseña un pequeño grid que recrea el puzzle de donde debe escapar, el cual incorpora una meta y un punto de \"game over\". Adicionalmente, se explora el diseño, testeo y optimización de políticas del agente. Para lograr el objetivo anterior, se definen algunas de las variables del agente de Q-Learning:\n",
    "\n",
    "**1. Ambiente:** El ambiente corresponde al laberinto en donde se encuentra el agente. Este laberinto consistirá en un grid de tamaño 4x3, el cual incorporá un punto de llegada y un punto de \"game over\". Adicionalmente, una de las casillas del grid será innacesible (o lo que es lo mismo, tendrá un muro).\n",
    "\n",
    "**2. Estados:** Los estados del agente corresponderán a la posición (coordenadas) en donde se encuentre. Por ejemplo, el estado del agente en el momento $t$ es $S_{t} = (1, 2)$.\n",
    "\n",
    "**3. Acciones:** Las acciones que puede tomar el agente son: Arriba ($up$), Abajo ($down$), Derecha ($right$), Izquierda ($left$). En caso en que el agente se \"estrelle con un muro\", el robot vuelve al estado en donde estaba.\n",
    "\n",
    "**4. Recompensas:** Para el caso del agente en el laberinto, se incluirá una \"penalidad de vida\", es decir, cada vez que el agente tome una acción, recibirá una recompensa constante $r$. Si llega a la meta, recibirá una recompensa $R_{win}$ y se pierde $R_{loss}$"
   ]
  },
  {
   "cell_type": "code",
   "execution_count": 2,
   "metadata": {},
   "outputs": [],
   "source": [
    "# Import libraries.\n",
    "import matplotlib.pyplot as plt\n",
    "import matplotlib.patches as patches\n",
    "import numpy as np\n",
    "import pandas as pd\n",
    "import time\n",
    "import random\n",
    "from IPython.display import clear_output\n",
    "\n",
    "%matplotlib inline"
   ]
  },
  {
   "cell_type": "code",
   "execution_count": 3,
   "metadata": {},
   "outputs": [],
   "source": [
    "class GridEnvironment():\n",
    "    \n",
    "    def __init__(self):\n",
    "        \n",
    "        self.rw = -1 # Living (Movement) Penalty\n",
    "        self.walls_and_paths = [[1, 1, 1, 1, 1], [0, 1, 0, 0, 1], [1, 1, 1, 1, 1], [1, 0, 1, 1, 1], [1, 1, 1, 1, 1]]\n",
    "        self.rewards = [[0, self.rw, self.rw, self.rw, self.rw], [self.rw, self.rw, self.rw, self.rw, self.rw], [self.rw, self.rw, self.rw, self.rw, self.rw], [self.rw, self.rw, self.rw, self.rw, self.rw], [self.rw, self.rw, self.rw, self.rw, self.rw]]\n",
    "        self.grid_pos = [0.1, 0.3, 0.5, 0.7, 0.9]\n",
    "        self.value_state_table = [[0, 0, 0, 0, 0], [0, 0, 0, 0, 0], [0, 0, 0, 0, 0], [0, 0, 0, 0, 0], [0, 0, 0, 10, -2]]\n",
    "        self.actions = [\"up\", \"down\", \"left\", \"right\"]\n",
    "        \n",
    "    def newState(self, pos, action):\n",
    "        \n",
    "        # New position array.\n",
    "        new_position = pos\n",
    "        \n",
    "        # Compute new position based on action taken.\n",
    "        if(action == \"up\" and pos[1] < 4):\n",
    "            if(self.walls_and_paths[pos[0]][pos[1] + 1]) == 1:\n",
    "                new_position = [pos[0], pos[1] + 1]\n",
    "\n",
    "        elif(action == \"down\" and pos[1] > 0):\n",
    "            if(self.walls_and_paths[pos[0]][pos[1] - 1]) == 1:\n",
    "                new_position = [pos[0], pos[1] - 1]\n",
    "\n",
    "        elif(action == \"left\" and pos[0] > 0):\n",
    "            if(self.walls_and_paths[pos[0] - 1][pos[1]]) == 1:\n",
    "                new_position = [pos[0] - 1, pos[1]]\n",
    "\n",
    "        elif(action == \"right\" and pos[0] < 4):\n",
    "            if(self.walls_and_paths[pos[0] + 1][pos[1]]) == 1:\n",
    "                new_position = [pos[0] + 1, pos[1]]\n",
    "        return new_position\n",
    "\n",
    "    \n",
    "    def getStateValue(self, position):\n",
    "        return self.value_state_table[position[0]][position[1]]\n",
    "        \n",
    "    def valueFunction(self, agent):\n",
    "        \n",
    "        # Initialize variable.\n",
    "        new_state_value = 0\n",
    "    \n",
    "        # Evaluate each action.\n",
    "        for action in agent.available_actions:\n",
    "            \n",
    "            new_state = self.newState(agent.pos, action)\n",
    "            expected_return = (self.rewards[agent.pos[0]][agent.pos[1]] \n",
    "                                + agent.discount_factor * self.value_state_table[new_state[0]][new_state[1]])\n",
    "            new_state_value += expected_return * agent.policy[agent.available_actions.index(action)]\n",
    "            \n",
    "        return new_state_value\n",
    "    \n",
    "    def updateValueStateTable(self, agent):\n",
    "        current_state_value = self.getStateValue(agent.pos)\n",
    "        new_state_value = self.valueFunction(agent)\n",
    "        self.value_state_table[agent.pos[0]][agent.pos[1]] = new_state_value"
   ]
  },
  {
   "cell_type": "code",
   "execution_count": 4,
   "metadata": {},
   "outputs": [],
   "source": [
    "class GridWorld():\n",
    "    \n",
    "    def __init__(self):\n",
    "        \n",
    "        self.environment = GridEnvironment()\n",
    "        self.agent = valueBasedAgent(self.environment)\n",
    "        print(\"GridWorld Initialize!\")\n",
    "        \n",
    "        \n",
    "    def render(self, x, y):\n",
    "            \n",
    "        fig1 = plt.figure(figsize=(4, 4))\n",
    "        ax1 = fig1.add_subplot(111, aspect='equal')\n",
    "\n",
    "        # Horizontal lines.\n",
    "        for i in range(0, 6):\n",
    "            ax1.axhline(i * 0.2, linewidth=2, color=\"#2D2D33\")\n",
    "            ax1.axvline(i * 0.2, linewidth=2, color=\"#2D2D33\")\n",
    "\n",
    "        # Salida, Meta & GameOver.\n",
    "        ax1.add_patch(patches.Rectangle((0.0, 0.0), 0.2, 0.2, facecolor = \"#F6D924\"))\n",
    "        ax1.add_patch(patches.Rectangle((0.8, 0.6), 0.2, 0.2, facecolor = \"#68FF33\"))\n",
    "        ax1.add_patch(patches.Rectangle((0.8, 0.8), 0.2, 0.2, facecolor = \"#FF5533\"))\n",
    "\n",
    "        # Muros del juego.\n",
    "        ax1.add_patch(patches.Rectangle((0.2, 0.4), 0.2, 0.4, facecolor = \"#33A4FF\"))\n",
    "        ax1.add_patch(patches.Rectangle((0.6, 0.2), 0.2, 0.2, facecolor = \"#33A4FF\"))\n",
    "        ax1.add_patch(patches.Rectangle((0.2, 0.0), 0.2, 0.2, facecolor = \"#33A4FF\"))\n",
    "        #ax1.add_patch(patches.Rectangle((0.8, 0.2), 0.2, 0.2, facecolor = \"#33A4FF\"))\n",
    "        #ax1.add_patch(patches.Rectangle((0.4, 0.8), 0.2, 0.2, facecolor = \"#33A4FF\"))\n",
    "\n",
    "        # Limit grid view.\n",
    "        plt.ylim((0, 1))\n",
    "        plt.xlim((0, 1))\n",
    "\n",
    "        # Plot text reward.\n",
    "        pos_correct = -.02\n",
    "        #plt.text(0.9 + pos_correct, 0.9 + pos_correct, \"1\", fontsize=16)\n",
    "        #plt.text(0.9 + pos_correct, 0.7 + pos_correct, \"-1\", fontsize=16)\n",
    "        plt.scatter(x, y, s = 100, color = \"black\", marker = \"o\", facecolor = \"blue\", edgecolors = \"blue\", zorder = 10)\n",
    "\n",
    "        # Plot state values.\n",
    "        for i in range(0, len(self.environment.value_state_table)):\n",
    "            for j in range(0, len(self.environment.value_state_table[0])):\n",
    "                plt.text(self.environment.grid_pos[i] - 0.08, self.environment.grid_pos[j] - 0.03, \n",
    "                         round(self.environment.value_state_table[i][j], 2), fontsize=16)\n",
    "                \n",
    "        # Plot grid.\n",
    "        plt.axis(\"off\")\n",
    "        plt.show()    \n",
    "        \n",
    "    def update(self):\n",
    "        self.dynamicProgrammingMethod(sigma = 2)\n",
    "        \n",
    "    # Method 1. No logic.\n",
    "    def reachTheEnd():\n",
    "        pos = self.agent.getPosition()\n",
    "        while not ((self.agent.pos[0] == 4 and self.agent.pos[1] == 4) or (self.agent.pos[0] == 4 and self.agent.pos[1] == 3)):\n",
    "            self.agent.move()\n",
    "            pos = self.agent.getPosition()\n",
    "            grid_coords = self.environment.grid_pos\n",
    "            self.render(grid_coords[pos[0]], grid_coords[pos[1]])\n",
    "            \n",
    "            time.sleep(0.1)\n",
    "            clear_output(wait = True)\n",
    "            \n",
    "    # Method 2. Dynamic Programming Method.\n",
    "    def dynamicProgrammingMethod(self, sigma):\n",
    "        \n",
    "        delta = 0 \n",
    "        counter = 0\n",
    "        #while(delta < sigma):\n",
    "        while(counter < 1000):\n",
    "            counter += 1\n",
    "            # Dyamic Programming Algorithm\n",
    "            delta = 0\n",
    "            current_state_value = self.environment.getStateValue(self.agent.getPosition())\n",
    "            self.agent.move()\n",
    "            new_state_value = self.environment.getStateValue(self.agent.getPosition())\n",
    "            delta = max(delta, abs(current_state_value - new_state_value))\n",
    "            print(delta)\n",
    "            \n",
    "            # Draw grid and agent.\n",
    "            pos = self.agent.getPosition()\n",
    "            grid_coords = self.environment.grid_pos\n",
    "            print(\"Step: \", counter)\n",
    "            \n",
    "            self.render(grid_coords[pos[0]], grid_coords[pos[1]])\n",
    "            time.sleep(0.1)\n",
    "            clear_output(wait = True)"
   ]
  },
  {
   "cell_type": "markdown",
   "metadata": {},
   "source": [
    "## Value Based Agent."
   ]
  },
  {
   "cell_type": "code",
   "execution_count": 5,
   "metadata": {},
   "outputs": [],
   "source": [
    "class valueBasedAgent():\n",
    "    \n",
    "    def __init__(self, environment):\n",
    "        self.pos = [0,0]\n",
    "        self.total_reward = 0\n",
    "        self.environment = environment\n",
    "        self.available_actions = self.environment.actions\n",
    "        self.mode = mode\n",
    "        \n",
    "        self.policy = [0.25, 0.25, 0.25, 0.25]\n",
    "        self.discount_factor = 0.5\n",
    "        \n",
    "    def selectAction(self):\n",
    "        action = self.available_actions[random.randint(0, len(self.available_actions) - 1)] # Agent initial policy.\n",
    "        return action\n",
    "        \n",
    "    def move(self):\n",
    "    \n",
    "        # Select action according to policy.\n",
    "        action = self.selectAction()\n",
    "        print(\"Action taken\", action)\n",
    "\n",
    "        # Move to new position according to action taken.\n",
    "        self.pos = self.environment.newState(self.pos, action)\n",
    "        print(\"New Position: \", self.pos)\n",
    "                        \n",
    "        if (self.pos[0] == 4 and self.pos[1] == 4) or (self.pos[0] == 4 and self.pos[1] == 3):\n",
    "            self.pos[0] = 0\n",
    "            self.pos[1] = 0\n",
    "            print(\"One epoch completed!\")\n",
    "        else:\n",
    "            # Update value state table.\n",
    "            self.environment.updateValueStateTable(self)\n",
    "        \n",
    "    def getPosition(self):\n",
    "        return self.pos\n",
    "    \n",
    "    def getReward(self):\n",
    "        return self.total_reward"
   ]
  },
  {
   "cell_type": "markdown",
   "metadata": {},
   "source": [
    "### Policy Evaluation (Prediction)."
   ]
  },
  {
   "cell_type": "code",
   "execution_count": 6,
   "metadata": {
    "scrolled": false
   },
   "outputs": [
    {
     "name": "stdout",
     "output_type": "stream",
     "text": [
      "Action taken left\n",
      "New Position:  [2, 3]\n",
      "1.9531209383139014e-07\n",
      "Step:  1000\n"
     ]
    },
    {
     "data": {
      "image/png": "[encoded data removed]",
      "text/plain": [
       "<Figure size 288x288 with 1 Axes>"
      ]
     },
     "metadata": {
      "needs_background": "light"
     },
     "output_type": "display_data"
    }
   ],
   "source": [
    "# Play game!.\n",
    "world = GridWorld()\n",
    "world.update()"
   ]
  },
  {
   "cell_type": "markdown",
   "metadata": {},
   "source": [
    "### Policy Improvement (Control)."
   ]
  },
  {
   "cell_type": "code",
   "execution_count": 9,
   "metadata": {},
   "outputs": [
    {
     "data": {
      "text/plain": [
       "[[-0.3503528412325395,\n",
       "  -1.7517642135801104,\n",
       "  -1.9573476188448478,\n",
       "  -1.9923215228451208,\n",
       "  -1.9965815303368624],\n",
       " [0, -1.9547097200027927, 0, 0, -1.9871676656599506],\n",
       " [-1.9943949007496846,\n",
       "  -1.9765405073766944,\n",
       "  -1.8867313112664057,\n",
       "  -1.7409427960997774,\n",
       "  -1.926425461538506],\n",
       " [-1.9899939192565346,\n",
       "  0,\n",
       "  -1.4897021058487656,\n",
       "  -0.3734429952056235,\n",
       "  -1.7570216941842245],\n",
       " [-1.9459141636147677, -1.685632905642056, -0.1679031392993791, 10, -2]]"
      ]
     },
     "execution_count": 9,
     "metadata": {},
     "output_type": "execute_result"
    }
   ],
   "source": [
    "world.environment.value_state_table"
   ]
  },
  {
   "cell_type": "code",
   "execution_count": null,
   "metadata": {},
   "outputs": [],
   "source": [
    "    # Method 1. No logic.\n",
    "    def reachTheEnd():\n",
    "        pos = self.agent.getPosition()\n",
    "        while not ((self.agent.pos[0] == 4 and self.agent.pos[1] == 4) or (self.agent.pos[0] == 4 and self.agent.pos[1] == 3)):\n",
    "            self.agent.move()\n",
    "            pos = self.agent.getPosition()\n",
    "            grid_coords = self.environment.grid_pos\n",
    "            self.render(grid_coords[pos[0]], grid_coords[pos[1]])\n",
    "            \n",
    "            time.sleep(0.1)\n",
    "            clear_output(wait = True)\n",
    "          \n",
    "    # Method 2. Dynamic Programming Method.\n",
    "    def dynamicProgrammingMethod2(self, sigma):\n",
    "        \n",
    "        delta = 0 \n",
    "        counter = 0\n",
    "        #while(delta < sigma):\n",
    "        while(counter < 1000):\n",
    "            counter += 1\n",
    "            # Dyamic Programming Algorithm\n",
    "            delta = 0\n",
    "            current_state_value = self.environment.getStateValue(self.agent.getPosition())\n",
    "            self.agent.move()\n",
    "            new_state_value = self.environment.getStateValue(self.agent.getPosition())\n",
    "            delta = max(delta, abs(current_state_value - new_state_value))\n",
    "            print(delta)\n",
    "            \n",
    "            # Draw grid and agent.\n",
    "            pos = self.agent.getPosition()\n",
    "            grid_coords = self.environment.grid_pos\n",
    "            print(\"Step: \", counter)\n",
    "            \n",
    "            self.render(grid_coords[pos[0]], grid_coords[pos[1]])\n",
    "            time.sleep(0.1)\n",
    "            clear_output(wait = True)"
   ]
  }
 ],
 "metadata": {
  "kernelspec": {
   "display_name": "Python 3",
   "language": "python",
   "name": "python3"
  },
  "language_info": {
   "codemirror_mode": {
    "name": "ipython",
    "version": 3
   },
   "file_extension": ".py",
   "mimetype": "text/x-python",
   "name": "python",
   "nbconvert_exporter": "python",
   "pygments_lexer": "ipython3",
   "version": "3.7.3"
  }
 },
 "nbformat": 4,
 "nbformat_minor": 2
}
