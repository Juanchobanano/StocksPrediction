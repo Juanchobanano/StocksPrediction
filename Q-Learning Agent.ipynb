{
 "cells": [
  {
   "cell_type": "markdown",
   "metadata": {},
   "source": [
    "# Q-Learning Agent \n",
    "---\n",
    "En este notebook se desarrolla un agente de Q-Learning que aprende a escapar de un pequeño laberinto. Para ello, se diseña un pequeño grid que recrea el puzzle de donde debe escapar, el cual incorpora una meta y un punto de \"game over\". Adicionalmente, se explora el diseño, testeo y optimización de políticas del agente. Para lograr el objetivo anterior, se definen algunas de las variables del agente de Q-Learning:\n",
    "\n",
    "**1. Ambiente:** El ambiente corresponde al laberinto en donde se encuentra el agente. Este laberinto consistirá en un grid de tamaño 4x3, el cual incorporá un punto de llegada y un punto de \"game over\". Adicionalmente, una de las casillas del grid será innacesible (o lo que es lo mismo, tendrá un muro).\n",
    "\n",
    "**2. Estados:** Los estados del agente corresponderán a la posición (coordenadas) en donde se encuentre. Por ejemplo, el estado del agente en el momento $t$ es $S_{t} = (1, 2)$.\n",
    "\n",
    "**3. Acciones:** Las acciones que puede tomar el agente son: Arriba ($up$), Abajo ($down$), Derecha ($right$), Izquierda ($left$). En caso en que el agente se \"estrelle con un muro\", el robot vuelve al estado en donde estaba.\n",
    "\n",
    "**4. Recompensas:** Para el caso del agente en el laberinto, se incluirá una \"penalidad de vida\", es decir, cada vez que el agente tome una acción, recibirá una recompensa constante $r$. Si llega a la meta, recibirá una recompensa $R_{win}$ y se pierde $R_{loss}$\n",
    "\n",
    "<img src=\"https://miro.medium.com/max/725/1*NyWUkwz1QhrVJj9ygCQ5nA.png\" alt=\"Smiley face\" height=\"300\" width=\"450\">"
   ]
  },
  {
   "cell_type": "code",
   "execution_count": 1,
   "metadata": {},
   "outputs": [],
   "source": [
    "import matplotlib.pyplot as plt\n",
    "import matplotlib.patches as patches\n",
    "import numpy as np\n",
    "import pandas as pd\n",
    "import time\n",
    "import random\n",
    "\n",
    "%matplotlib inline"
   ]
  },
  {
   "cell_type": "code",
   "execution_count": 2,
   "metadata": {},
   "outputs": [],
   "source": [
    "from IPython.display import clear_output"
   ]
  },
  {
   "cell_type": "code",
   "execution_count": 3,
   "metadata": {},
   "outputs": [],
   "source": [
    "import os\n",
    "def clear():\n",
    "    os.system( 'cls' )"
   ]
  },
  {
   "cell_type": "code",
   "execution_count": 4,
   "metadata": {},
   "outputs": [],
   "source": [
    "# Draw Grid.\n",
    "def draw_grid(x, y):\n",
    "\n",
    "    fig1 = plt.figure(figsize=(4, 4))\n",
    "    ax1 = fig1.add_subplot(111, aspect='equal')\n",
    "\n",
    "    # Horizontal lines.\n",
    "    for i in range(0, 6):\n",
    "        ax1.axhline(i * 0.2, linewidth=2, color=\"#2D2D33\")\n",
    "        ax1.axvline(i * 0.2, linewidth=2, color=\"#2D2D33\")\n",
    "    \n",
    "    # Salida, Meta & GameOver.\n",
    "    ax1.add_patch(patches.Rectangle((0.0, 0.0), 0.2, 0.2, facecolor = \"#F6D924\"))\n",
    "    ax1.add_patch(patches.Rectangle((0.8, 0.8), 0.2, 0.2, facecolor = \"#68FF33\"))\n",
    "    ax1.add_patch(patches.Rectangle((0.8, 0.6), 0.2, 0.2, facecolor = \"#FF5533\"))\n",
    "\n",
    "    # Muros del juego.\n",
    "    ax1.add_patch(patches.Rectangle((0.2, 0.4), 0.2, 0.4, facecolor = \"#33A4FF\"))\n",
    "    ax1.add_patch(patches.Rectangle((0.6, 0.2), 0.2, 0.2, facecolor = \"#33A4FF\"))\n",
    "    ax1.add_patch(patches.Rectangle((0.2, 0.0), 0.2, 0.2, facecolor = \"#33A4FF\"))\n",
    "    ax1.add_patch(patches.Rectangle((0.8, 0.2), 0.2, 0.2, facecolor = \"#33A4FF\"))\n",
    "    ax1.add_patch(patches.Rectangle((0.4, 0.8), 0.2, 0.2, facecolor = \"#33A4FF\"))\n",
    "\n",
    "    # Limit grid view.\n",
    "    plt.ylim((0, 1))\n",
    "    plt.xlim((0, 1))\n",
    "\n",
    "    # Plot text reward.\n",
    "    pos_correct = -.02\n",
    "    plt.text(0.9 + pos_correct, 0.9 + pos_correct, \"1\", fontsize=16)\n",
    "    plt.text(0.9 + pos_correct, 0.7 + pos_correct, \"-1\", fontsize=16)\n",
    "    plt.scatter(x, y, s = 100, color = \"black\", marker = \"x\", edgecolors = \"black\", zorder = 10)\n",
    "    \n",
    "    # Plot grid.\n",
    "    plt.axis(\"off\")\n",
    "    plt.show()"
   ]
  },
  {
   "cell_type": "code",
   "execution_count": 5,
   "metadata": {},
   "outputs": [],
   "source": [
    "# Set walls and paths.\n",
    "grid_world = [[1, 1, 1, 1, 1], [0, 1, 0, 0, 1], [1, 1, 1, 1, 0], [1, 0, 1, 1, 1], [1, 0, 1, 1, 1]]"
   ]
  },
  {
   "cell_type": "code",
   "execution_count": 6,
   "metadata": {},
   "outputs": [],
   "source": [
    "# Random agent.\n",
    "class randomAgent():\n",
    "    \n",
    "    def __init__(self):\n",
    "        self.pos = [0, 0]\n",
    "        self.actions = [\"up\", \"down\", \"left\", \"right\"]\n",
    "        self.living_penalty = -1\n",
    "        self.total_reward = 0\n",
    "        \n",
    "    def selectAction(self):\n",
    "        action = self.actions[random.randint(0, 3)]\n",
    "        return action \n",
    "    \n",
    "    def move(self):\n",
    "        act = self.selectAction()\n",
    "        previous_pos = self.pos.copy()\n",
    "        self.total_reward += self.living_penalty\n",
    "        \n",
    "        print(\"Action taken: \", act)\n",
    "        \n",
    "        try:\n",
    "            if(act == \"up\" and self.pos[1] < 4):\n",
    "                \n",
    "                if(grid_world[self.pos[0]][self.pos[1] + 1]) == 1:\n",
    "                    self.pos = [self.pos[0], self.pos[1] + 1]\n",
    "\n",
    "            elif(act == \"down\" and self.pos[1] > 0):\n",
    "\n",
    "                if(grid_world[self.pos[0]][self.pos[1] - 1]) == 1:\n",
    "                    self.pos = [self.pos[0], self.pos[1] - 1]\n",
    "\n",
    "            elif(act == \"left\" and self.pos[0] > 0):\n",
    "\n",
    "                if(grid_world[self.pos[0] - 1][self.pos[1]]) == 1:\n",
    "                    self.pos = [self.pos[0] - 1, self.pos[1]]\n",
    "\n",
    "            elif(act == \"right\" and self.pos[0] < 4):\n",
    "                if(grid_world[self.pos[0] + 1][self.pos[1]]) == 1:\n",
    "                    self.pos = [self.pos[0] + 1, self.pos[1]]\n",
    "        except:\n",
    "            pass\n",
    "        \n",
    "    def getPos(self):\n",
    "        return self.pos"
   ]
  },
  {
   "cell_type": "code",
   "execution_count": 53,
   "metadata": {},
   "outputs": [],
   "source": [
    "class valueBasedAgent():\n",
    "    \n",
    "    def __init__(self):\n",
    "        self.pos = [0, 0]\n",
    "        self.actions = [\"up\", \"down\", \"left\", \"right\"]\n",
    "        self.living_penalty = -1\n",
    "        self.total_reward = 0\n",
    "        \n",
    "    def selectAction(self):\n",
    "        action = self.actions[random.randint(0, 3)]\n",
    "        return action \n",
    "    \n",
    "    def move(self):\n",
    "        act = self.selectAction()\n",
    "        previous_pos = self.pos.copy()\n",
    "        self.total_reward += self.living_penalty\n",
    "        \n",
    "        print(\"Action taken: \", act)\n",
    "        \n",
    "        try:\n",
    "            if(act == \"up\" and self.pos[1] < 4):\n",
    "                \n",
    "                if(grid_world[self.pos[0]][self.pos[1] + 1]) == 1:\n",
    "                    self.pos = [self.pos[0], self.pos[1] + 1]\n",
    "\n",
    "            elif(act == \"down\" and self.pos[1] > 0):\n",
    "\n",
    "                if(grid_world[self.pos[0]][self.pos[1] - 1]) == 1:\n",
    "                    self.pos = [self.pos[0], self.pos[1] - 1]\n",
    "\n",
    "            elif(act == \"left\" and self.pos[0] > 0):\n",
    "\n",
    "                if(grid_world[self.pos[0] - 1][self.pos[1]]) == 1:\n",
    "                    self.pos = [self.pos[0] - 1, self.pos[1]]\n",
    "\n",
    "            elif(act == \"right\" and self.pos[0] < 4):\n",
    "                if(grid_world[self.pos[0] + 1][self.pos[1]]) == 1:\n",
    "                    self.pos = [self.pos[0] + 1, self.pos[1]]\n",
    "        except:\n",
    "            pass\n",
    "        \n",
    "    def getPos(self):\n",
    "        return self.pos"
   ]
  },
  {
   "cell_type": "code",
   "execution_count": 48,
   "metadata": {},
   "outputs": [],
   "source": [
    "value_matrix = [[0, 0, 0, 0, 0], [0, 0, 0, 0, 0], [0, 0, 0, 0, 0], [0, 0, 0, 0, 0], [0, 0, 0, 0, 0]]"
   ]
  },
  {
   "cell_type": "code",
   "execution_count": 7,
   "metadata": {
    "scrolled": false
   },
   "outputs": [
    {
     "name": "stdout",
     "output_type": "stream",
     "text": [
      "------\n",
      "Action taken:  right\n",
      "Position:  ( 4 , 4 )\n"
     ]
    },
    {
     "data": {
      "image/png": "[encoded data removed]",
      "text/plain": [
       "<Figure size 288x288 with 1 Axes>"
      ]
     },
     "metadata": {
      "needs_background": "light"
     },
     "output_type": "display_data"
    }
   ],
   "source": [
    "grid_pos = [0.1, 0.3, 0.5, 0.7, 0.9]\n",
    "\n",
    "agent = randomAgent()\n",
    "pos = agent.getPos()\n",
    "#print(\"Position: \", pos[0], pos[1])\n",
    "draw_grid(pos[0] + 0.1, pos[1] + 0.1)\n",
    "\n",
    "while not ((pos[0] == 4 and pos[1] == 4) or (pos[0] == 4 and pos[1] == 3)):\n",
    "    print(\"------\")\n",
    "    agent.move()\n",
    "    pos = agent.getPos()\n",
    "    \n",
    "    print(\"Position: \", \"(\", pos[0], \",\", pos[1], \")\")\n",
    "    draw_grid(grid_pos[pos[0]], grid_pos[pos[1]])\n",
    "    time.sleep(0.1)\n",
    "    clear_output(wait=True)"
   ]
  },
  {
   "cell_type": "code",
   "execution_count": null,
   "metadata": {},
   "outputs": [],
   "source": []
  },
  {
   "cell_type": "code",
   "execution_count": null,
   "metadata": {},
   "outputs": [],
   "source": []
  },
  {
   "cell_type": "code",
   "execution_count": null,
   "metadata": {},
   "outputs": [],
   "source": []
  },
  {
   "cell_type": "code",
   "execution_count": null,
   "metadata": {},
   "outputs": [],
   "source": []
  },
  {
   "cell_type": "code",
   "execution_count": null,
   "metadata": {},
   "outputs": [],
   "source": []
  },
  {
   "cell_type": "code",
   "execution_count": null,
   "metadata": {},
   "outputs": [],
   "source": []
  },
  {
   "cell_type": "code",
   "execution_count": 11,
   "metadata": {},
   "outputs": [],
   "source": [
    "class GridWorld():\n",
    "    \n",
    "    def __init__(width = 5, height = 5, living_penalty = 0):\n",
    "        self.width = width, \n",
    "        self.height = height,\n",
    "        self.living_penalty = living_penalty\n",
    "        \n",
    "        # State value matrix.\n",
    "        state_matrix = list()\n",
    "        for i in range(0, height):\n",
    "            row_values = list()\n",
    "    \n",
    "            for j in range(0, width):\n",
    "                row_values.append(self.living_penalty)\n",
    "            state_matrix.append(row_values)\n",
    "        \n",
    "        # Action State value matrix.\n",
    "        action_state_matrix = list()\n",
    "        for i in range(0, height):\n",
    "            row_values = list()\n",
    "            for j in range(0, width):\n",
    "                state_q_values = list()\n",
    "                \n",
    "                for k in range(0, 4):\n",
    "                    state_q_values.append(0)\n",
    "                    \n",
    "                row_values.append(state_q_values)\n",
    "            action_state_matrix.append(row_values)\n",
    "                    \n",
    "    def stateValue():\n",
    "        return \"\"\n",
    "    \n",
    "    def actionStateValue():\n",
    "        return \"\""
   ]
  },
  {
   "cell_type": "code",
   "execution_count": null,
   "metadata": {},
   "outputs": [],
   "source": []
  }
 ],
 "metadata": {
  "kernelspec": {
   "display_name": "Python 3",
   "language": "python",
   "name": "python3"
  },
  "language_info": {
   "codemirror_mode": {
    "name": "ipython",
    "version": 3
   },
   "file_extension": ".py",
   "mimetype": "text/x-python",
   "name": "python",
   "nbconvert_exporter": "python",
   "pygments_lexer": "ipython3",
   "version": "3.7.3"
  }
 },
 "nbformat": 4,
 "nbformat_minor": 2
}
