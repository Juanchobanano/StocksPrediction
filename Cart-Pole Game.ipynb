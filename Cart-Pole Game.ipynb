{
 "cells": [
  {
   "cell_type": "markdown",
   "metadata": {},
   "source": [
    "# Cart-Pole Game. Deep Q-Learning."
   ]
  },
  {
   "cell_type": "code",
   "execution_count": 1,
   "metadata": {},
   "outputs": [],
   "source": [
    "# Import libraries.\n",
    "import random\n",
    "from collections import deque\n",
    "import gym\n",
    "import matplotlib.pyplot as plt\n",
    "import numpy as np\n",
    "import tensorflow as tf"
   ]
  },
  {
   "cell_type": "code",
   "execution_count": 2,
   "metadata": {},
   "outputs": [
    {
     "name": "stdout",
     "output_type": "stream",
     "text": [
      "WARNING:tensorflow:From C:\\Users\\Juan Esteban Cepeda\\AppData\\Roaming\\Python\\Python37\\site-packages\\tensorflow_core\\python\\compat\\v2_compat.py:65: disable_resource_variables (from tensorflow.python.ops.variable_scope) is deprecated and will be removed in a future version.\n",
      "Instructions for updating:\n",
      "non-resource variables are not supported in the long term\n"
     ]
    }
   ],
   "source": [
    "import tensorflow.compat.v1 as tf\n",
    "tf.disable_v2_behavior()"
   ]
  },
  {
   "cell_type": "code",
   "execution_count": 3,
   "metadata": {},
   "outputs": [],
   "source": [
    "# Create the cart-pole environment.\n",
    "env = gym.make(\"CartPole-v0\")"
   ]
  },
  {
   "cell_type": "code",
   "execution_count": 4,
   "metadata": {},
   "outputs": [],
   "source": [
    "# Build the network.\n",
    "input_size = env.observation_space.shape[0]\n",
    "\n",
    "input_placeholder = tf.placeholder(\"float\", [None, input_size])\n",
    "\n",
    "# Weights and bias of the hidden layer.\n",
    "weights_1 = tf.Variable(tf.truncated_normal([input_size, 20], stddev = 0.01))\n",
    "bias_1 = tf.Variable(tf.constant(0.0, shape = [20]))\n",
    "\n",
    "# Weights and bias of the output layer.\n",
    "weights_2 = tf.Variable(tf.truncated_normal([20, env.action_space.n], stddev = 0.01))\n",
    "bias_2 = tf.Variable(tf.constant(0.0, shape = [env.action_space.n]))\n",
    "\n",
    "hidden_layer = tf.nn.tanh(tf.matmul(input_placeholder, weights_1) + bias_1)\n",
    "output_layer = tf.matmul(hidden_layer, weights_2) + bias_2\n",
    "\n",
    "action_placeholder = tf.placeholder(\"float\", [None, 2])\n",
    "target_placeholder = tf.placeholder(\"float\", [None])"
   ]
  },
  {
   "cell_type": "code",
   "execution_count": 5,
   "metadata": {},
   "outputs": [],
   "source": [
    "# Network estimation.\n",
    "q_estimation = tf.reduce_sum(tf.multiply(output_layer, action_placeholder), reduction_indices = 1)\n",
    "\n",
    "# Loss function.\n",
    "loss = tf.reduce_mean(tf.square(target_placeholder - q_estimation))\n",
    "\n",
    "# Use Adam.\n",
    "train_operation = tf.train.AdamOptimizer().minimize(loss)\n",
    "\n",
    "# Initialize TF variable.\n",
    "session = tf.Session()\n",
    "session.run(tf.global_variables_initializer())"
   ]
  },
  {
   "cell_type": "code",
   "execution_count": 6,
   "metadata": {},
   "outputs": [],
   "source": [
    "def choose_next_action(state, rand_action_prob):\n",
    "    \"\"\"\n",
    "    Simplified e-greedy policy.\n",
    "    :param state: current state\n",
    "    :param rand_action_prob: probability to select random action \n",
    "    \"\"\"\n",
    "    new_action = np.zeros([env.action_space.n])\n",
    "    if random.random() <= rand_action_prob: \n",
    "        # Choose an action randomly.\n",
    "        action_index = random.randrange(env.action_space.n)\n",
    "    else: \n",
    "        # Choose an action given our state.\n",
    "        action_values = session.run(output_layer, feed_dict = {input_placeholder: [state]})[0]\n",
    "\n",
    "        # We will take the highest value action.\n",
    "        action_index = np.argmax(action_values)\n",
    "        \n",
    "    new_action[action_index] = 1\n",
    "    return new_action"
   ]
  },
  {
   "cell_type": "code",
   "execution_count": 7,
   "metadata": {},
   "outputs": [],
   "source": [
    "def train(mini_batch):\n",
    "    \"\"\"\n",
    "    Train the network on a single minibatch\n",
    "    :param mini_batch the mini-batch\n",
    "    \"\"\"\n",
    "    last_state, last_action, reward, current_state, terminal = range(5)\n",
    "    \n",
    "    # Get the batch variables.\n",
    "    previous_states = [d[last_state] for d in mini_batch]\n",
    "    actions = [d[last_action] for d in mini_batch]\n",
    "    rewards = [d[reward] for d in mini_batch]\n",
    "    current_states = [d[current_state] for d in mini_batch]\n",
    "    agents_expected_reward = []\n",
    "    \n",
    "    # This gives us the agents expected reward for each action we might take.\n",
    "    agents_reward_per_action = session.run(output_layer, feed_dict = {input_placeholder: current_states})\n",
    "    for i in range(len(mini_batch)):\n",
    "        if mini_batch[i][terminal]:\n",
    "            # This was a terminal frame so there is no future reward...\n",
    "            agents_expected_reward.append(rewards[i])\n",
    "        else: \n",
    "            # Otherwise compute expected reward.\n",
    "            discount_factor = 0.9\n",
    "            agents_expected_reward.append(rewards[i] + discount_factor * np.max(agents_reward_per_action[i]))\n",
    "            \n",
    "    # Learn that these actions in these states lead to this reward.\n",
    "    session.run(train_operation, feed_dict = {\n",
    "        input_placeholder: previous_states, \n",
    "        action_placeholder: actions, \n",
    "        target_placeholder: agents_expected_reward\n",
    "    })"
   ]
  },
  {
   "cell_type": "code",
   "execution_count": 8,
   "metadata": {},
   "outputs": [],
   "source": [
    "def q_learning(): \n",
    "    \"\"\"The Q-learning method\"\"\"\n",
    "    episode_lengths = list()\n",
    "    \n",
    "    # Experience replay buffer and definition.\n",
    "    observations = deque(maxlen = 200000)\n",
    "    \n",
    "    # Set the first action to nothing.\n",
    "    last_action = np.zeros(env.action_space.n)\n",
    "    last_action[1] = 1\n",
    "    last_state = env.reset()\n",
    "    \n",
    "    total_reward = 0\n",
    "    episode = 1\n",
    "    \n",
    "    time_step = 0\n",
    "    \n",
    "    # Initial chance to select random action.\n",
    "    rand_action_prob = 1.0\n",
    "    \n",
    "    while episode <= 500: \n",
    "        # Render the cart pole on the screen.\n",
    "        \n",
    "        if episode >= 300:\n",
    "            env.render()\n",
    "        \n",
    "        # Select action following the policy.\n",
    "        last_action = choose_next_action(last_state, rand_action_prob)\n",
    "        \n",
    "        # Take action and receive new state and reward.\n",
    "        current_state, reward, terminal, info = env.step(np.argmax(last_action))\n",
    "        total_reward += reward\n",
    "        \n",
    "        if terminal: \n",
    "            reward = -1\n",
    "            episode_lengths.append(time_step)\n",
    "            \n",
    "            #print(\"Episode: %s; Steps before fail: %s; Epsilon: %.2f reward %s\" % (episode, time_step, rand_action_prob, total_reward))\n",
    "            total_reward = 0\n",
    "            \n",
    "        # Store the transition in previous observations.\n",
    "        observations.append((last_state, last_action, reward, current_state, terminal))\n",
    "        \n",
    "        # Only train if done observing.\n",
    "        min_experience_replay_size = 5000\n",
    "        if len(observations) > min_experience_replay_size: \n",
    "            # Mini batch of 128 from the experience replay observations.\n",
    "            mini_batch = random.sample(observations, 128)\n",
    "            \n",
    "            # Train the network.\n",
    "            train(mini_batch)\n",
    "            \n",
    "            time_step += 1\n",
    "        \n",
    "        # Reset the environment.\n",
    "        if terminal: \n",
    "            last_state = env.reset()\n",
    "            time_step = 0\n",
    "            episode += 1\n",
    "        else: \n",
    "            last_state = current_state\n",
    "            \n",
    "        # Gradually reduce the probability of a random action\n",
    "        # Starting from 1 and going to 0\n",
    "        if rand_action_prob > 0  and len(observations) > min_experience_replay_size: \n",
    "            rand_action_prob -= 1.0 / 15000\n",
    "            \n",
    "    # Display episodes length.\n",
    "    plt.xlabel(\"Episode\")\n",
    "    plt.ylabel(\"Length (steps)\")\n",
    "    plt.plot(episode_lengths, label = \"Episode length\")\n",
    "    plt.show()"
   ]
  },
  {
   "cell_type": "code",
   "execution_count": 16,
   "metadata": {},
   "outputs": [
    {
     "data": {
      "image/png": "[encoded data removed]",
      "text/plain": [
       "<Figure size 432x288 with 1 Axes>"
      ]
     },
     "metadata": {
      "needs_background": "light"
     },
     "output_type": "display_data"
    }
   ],
   "source": [
    "q_learning()"
   ]
  },
  {
   "cell_type": "code",
   "execution_count": null,
   "metadata": {},
   "outputs": [],
   "source": []
  }
 ],
 "metadata": {
  "kernelspec": {
   "display_name": "Python 3",
   "language": "python",
   "name": "python3"
  },
  "language_info": {
   "codemirror_mode": {
    "name": "ipython",
    "version": 3
   },
   "file_extension": ".py",
   "mimetype": "text/x-python",
   "name": "python",
   "nbconvert_exporter": "python",
   "pygments_lexer": "ipython3",
   "version": "3.7.3"
  }
 },
 "nbformat": 4,
 "nbformat_minor": 2
}
